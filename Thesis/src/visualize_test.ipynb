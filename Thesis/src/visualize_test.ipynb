{
 "cells": [
  {
   "cell_type": "code",
   "execution_count": 1,
   "metadata": {},
   "outputs": [],
   "source": [
    "import torch\n",
    "from IPython.display import display, HTML, Image\n",
    "from torch_geometric.loader import DataLoader\n",
    "from matplotlib import pyplot as plt\n",
    "\n",
    "from settings import *\n",
    "from generator import generate_organism\n",
    "from GNCAConv import Conv\n",
    "from visualizer import Visualizer\n",
    "from evo_trainer import Evo_Trainer\n",
    "from enums import EnvironmentType, ModelType\n",
    "from food_env import *"
   ]
  },
  {
   "cell_type": "code",
   "execution_count": null,
   "metadata": {},
   "outputs": [],
   "source": [
    "wall_amount = 20\n",
    "food_amount = 1000\n",
    "centered_env = Centered_Env(food_amount=food_amount//4, wall_amount=wall_amount)\n",
    "cluster_env = Cluster_Env(clusters=60, cluster_size=30, wall_amount=wall_amount)\n",
    "circle_env = Circle_Env(circles=3, food_amount=food_amount*2, wall_amount=wall_amount)\n",
    "spiral_env = Spiral_Env(spirals=3, food_amount=food_amount, wall_amount=wall_amount)"
   ]
  },
  {
   "cell_type": "code",
   "execution_count": null,
   "metadata": {},
   "outputs": [],
   "source": [
    "train_config = Train_Config(stdev=0.1, popsize=10, \n",
    "    name='hidden14', problem_searcher=ProblemSearcher.CMAES,\n",
    "    with_samplepool=False, timesteps=200)"
   ]
  },
  {
   "cell_type": "code",
   "execution_count": null,
   "metadata": {},
   "outputs": [],
   "source": [
    "settings = Settings(\n",
    "    device = torch.device('cpu'),\n",
    "    batch_size = 4,\n",
    "    n = 20,\n",
    "    food_envs=[centered_env, cluster_env, circle_env, spiral_env],\n",
    "    scale = 4,\n",
    "    wrap_around = True,\n",
    "    \n",
    "    model_type = ModelType.LocalOnly,\n",
    "\n",
    "    radius = 0.04,\n",
    "    radius_food_scale = 5,\n",
    "    consume_radius_scale = 3/4, \n",
    "    consumption_edge_required = 1,\n",
    "    noise = 0.0,\n",
    "    energy_required_to_replicate = 30,\n",
    "    train_config=train_config,\n",
    "\n",
    "    radius_wall_scale = 5,\n",
    "    radius_wall_damage_scale = 2,\n",
    "    wall_damage = 5,\n",
    "\n",
    "    radius_long_scale=2,\n",
    ")"
   ]
  },
  {
   "cell_type": "code",
   "execution_count": null,
   "metadata": {},
   "outputs": [],
   "source": [
    "graphs = [generate_organism(settings).toGraph() for _ in range(settings.batch_size)]\n",
    "loader = DataLoader(graphs, batch_size=settings.batch_size)\n",
    "graph = next(iter(loader))\n",
    "visualizer = Visualizer(settings)"
   ]
  },
  {
   "cell_type": "code",
   "execution_count": null,
   "metadata": {},
   "outputs": [
    {
     "ename": "TypeError",
     "evalue": "object of type 'int' has no len()",
     "output_type": "error",
     "traceback": [
      "\u001b[0;31m---------------------------------------------------------------------------\u001b[0m",
      "\u001b[0;31mTypeError\u001b[0m                                 Traceback (most recent call last)",
      "\u001b[1;32m/Users/martinholst/Desktop/MultiCellularAutomata/Thesis/src/visualize_test.ipynb Cell 6\u001b[0m in \u001b[0;36m<cell line: 1>\u001b[0;34m()\u001b[0m\n\u001b[0;32m----> <a href='vscode-notebook-cell:/Users/martinholst/Desktop/MultiCellularAutomata/Thesis/src/visualize_test.ipynb#W5sZmlsZQ%3D%3D?line=0'>1</a>\u001b[0m visualizer\u001b[39m.\u001b[39;49mplot_organism(graph)\n\u001b[1;32m      <a href='vscode-notebook-cell:/Users/martinholst/Desktop/MultiCellularAutomata/Thesis/src/visualize_test.ipynb#W5sZmlsZQ%3D%3D?line=1'>2</a>\u001b[0m visualizer\u001b[39m.\u001b[39mfigure\n",
      "File \u001b[0;32m~/Desktop/MultiCellularAutomata/Thesis/src/visualizer.py:68\u001b[0m, in \u001b[0;36mVisualizer.plot_organism\u001b[0;34m(self, graph)\u001b[0m\n\u001b[1;32m     61\u001b[0m     \u001b[39mself\u001b[39m\u001b[39m.\u001b[39mscatter_wall \u001b[39m=\u001b[39m [ax\u001b[39m.\u001b[39mscatter(\n\u001b[1;32m     62\u001b[0m         [],\n\u001b[1;32m     63\u001b[0m         [],\n\u001b[1;32m     64\u001b[0m         marker\u001b[39m=\u001b[39m\u001b[39m\"\u001b[39m\u001b[39m.\u001b[39m\u001b[39m\"\u001b[39m,\n\u001b[1;32m     65\u001b[0m         edgecolor\u001b[39m=\u001b[39m\u001b[39m\"\u001b[39m\u001b[39mg\u001b[39m\u001b[39m\"\u001b[39m,\n\u001b[1;32m     66\u001b[0m     ) \u001b[39mfor\u001b[39;00m ax \u001b[39min\u001b[39;00m \u001b[39mself\u001b[39m\u001b[39m.\u001b[39maxes]\n\u001b[1;32m     67\u001b[0m     \u001b[39mself\u001b[39m\u001b[39m.\u001b[39medge_plot \u001b[39m=\u001b[39m [ax\u001b[39m.\u001b[39mplot([[],[]], [[],[]], linewidth\u001b[39m=\u001b[39m\u001b[39m0.1\u001b[39m\u001b[39m/\u001b[39m\u001b[39mself\u001b[39m\u001b[39m.\u001b[39mscale) \u001b[39mfor\u001b[39;00m ax \u001b[39min\u001b[39;00m \u001b[39mself\u001b[39m\u001b[39m.\u001b[39maxes]\n\u001b[0;32m---> 68\u001b[0m     \u001b[39mself\u001b[39m\u001b[39m.\u001b[39mtexts \u001b[39m=\u001b[39m [\u001b[39mself\u001b[39m\u001b[39m.\u001b[39maxes[i]\u001b[39m.\u001b[39mtext(\u001b[39m0.98\u001b[39m, \u001b[39m0.98\u001b[39m, \u001b[39m'\u001b[39m\u001b[39m'\u001b[39m, horizontalalignment\u001b[39m=\u001b[39m\u001b[39m'\u001b[39m\u001b[39mright\u001b[39m\u001b[39m'\u001b[39m, verticalalignment\u001b[39m=\u001b[39m\u001b[39m'\u001b[39m\u001b[39mtop\u001b[39m\u001b[39m'\u001b[39m, transform\u001b[39m=\u001b[39m\u001b[39mself\u001b[39m\u001b[39m.\u001b[39maxes[i]\u001b[39m.\u001b[39mtransAxes) \u001b[39mfor\u001b[39;00m i \u001b[39min\u001b[39;00m \u001b[39mrange\u001b[39m(\u001b[39mlen\u001b[39;49m(\u001b[39mself\u001b[39;49m\u001b[39m.\u001b[39;49mbatch_size))]\n\u001b[1;32m     69\u001b[0m     plt\u001b[39m.\u001b[39mshow()\n\u001b[1;32m     71\u001b[0m s_idx \u001b[39m=\u001b[39m \u001b[39m0\u001b[39m\n",
      "\u001b[0;31mTypeError\u001b[0m: object of type 'int' has no len()"
     ]
    },
    {
     "data": {
      "image/png": "[encoded data removed]",
      "text/plain": [
       "<Figure size 1440x720 with 4 Axes>"
      ]
     },
     "metadata": {
      "needs_background": "light"
     },
     "output_type": "display_data"
    }
   ],
   "source": [
    "visualizer.plot_organism(graph)\n",
    "visualizer.figure"
   ]
  }
 ],
 "metadata": {
  "kernelspec": {
   "display_name": "AML",
   "language": "python",
   "name": "python3"
  },
  "language_info": {
   "codemirror_mode": {
    "name": "ipython",
    "version": 3
   },
   "file_extension": ".py",
   "mimetype": "text/x-python",
   "name": "python",
   "nbconvert_exporter": "python",
   "pygments_lexer": "ipython3",
   "version": "3.10.4"
  },
  "orig_nbformat": 4
 },
 "nbformat": 4,
 "nbformat_minor": 2
}
