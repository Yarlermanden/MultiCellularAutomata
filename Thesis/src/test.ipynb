{
 "cells": [
  {
   "attachments": {},
   "cell_type": "markdown",
   "metadata": {},
   "source": [
    "### Test notebook"
   ]
  },
  {
   "cell_type": "code",
   "execution_count": 1,
   "metadata": {},
   "outputs": [],
   "source": [
    "import numpy as np\n",
    "import torch\n",
    "import torch.nn as nn\n",
    "import torch.nn.functional as F\n",
    "import math\n",
    "import torch_geometric\n",
    "from torch_geometric.nn import GCNConv\n",
    "import IPython\n",
    "from IPython.display import display, HTML\n",
    "\n",
    "from graphUtils import add_edges\n",
    "from generator import generate_organism\n",
    "from cell import Cell\n",
    "from organism import Organism\n",
    "from GNCAmodel import GNCA\n",
    "from SpatioTemporalModel import SpatioTemporal\n",
    "from visualizer import Visualizer"
   ]
  },
  {
   "cell_type": "code",
   "execution_count": 2,
   "metadata": {},
   "outputs": [],
   "source": [
    "device = torch.device('cpu')\n",
    "#device = torch.device('mps')\n",
    "visualizer = Visualizer()\n",
    "n = 10\n",
    "organism = generate_organism(n, device)\n",
    "graph = organism.toGraph()"
   ]
  },
  {
   "cell_type": "code",
   "execution_count": 3,
   "metadata": {},
   "outputs": [],
   "source": [
    "model = SpatioTemporal(device)\n",
    "model = model.to(device)"
   ]
  },
  {
   "cell_type": "code",
   "execution_count": 4,
   "metadata": {},
   "outputs": [],
   "source": [
    "graph, *_ = model.forward(graph)\n",
    "graph, *_ = model.update(graph)"
   ]
  },
  {
   "cell_type": "code",
   "execution_count": 5,
   "metadata": {},
   "outputs": [
    {
     "data": {
      "image/png": "[encoded data removed]",
      "text/plain": [
       "<Figure size 432x288 with 1 Axes>"
      ]
     },
     "metadata": {
      "needs_background": "light"
     },
     "output_type": "display_data"
    },
    {
     "ename": "RuntimeError",
     "evalue": "stack expects each tensor to be equal size, but got [133, 6] at entry 0 and [33, 6] at entry 1",
     "output_type": "error",
     "traceback": [
      "\u001b[0;31m---------------------------------------------------------------------------\u001b[0m",
      "\u001b[0;31mRuntimeError\u001b[0m                              Traceback (most recent call last)",
      "\u001b[1;32m/Users/martinholst/Desktop/MultiCellularAutomata/Thesis/src/test.ipynb Cell 6\u001b[0m in \u001b[0;36m<cell line: 2>\u001b[0;34m()\u001b[0m\n\u001b[1;32m      <a href='vscode-notebook-cell:/Users/martinholst/Desktop/MultiCellularAutomata/Thesis/src/test.ipynb#W5sZmlsZQ%3D%3D?line=0'>1</a>\u001b[0m anim \u001b[39m=\u001b[39m visualizer\u001b[39m.\u001b[39manimate_organism(graph, model)\n\u001b[0;32m----> <a href='vscode-notebook-cell:/Users/martinholst/Desktop/MultiCellularAutomata/Thesis/src/test.ipynb#W5sZmlsZQ%3D%3D?line=1'>2</a>\u001b[0m IPython\u001b[39m.\u001b[39mdisplay\u001b[39m.\u001b[39mHTML(anim\u001b[39m.\u001b[39;49mto_jshtml())\n",
      "File \u001b[0;32m~/miniconda3/envs/AML/lib/python3.10/site-packages/matplotlib/animation.py:1331\u001b[0m, in \u001b[0;36mAnimation.to_jshtml\u001b[0;34m(self, fps, embed_frames, default_mode)\u001b[0m\n\u001b[1;32m   1327\u001b[0m         path \u001b[39m=\u001b[39m Path(tmpdir, \u001b[39m\"\u001b[39m\u001b[39mtemp.html\u001b[39m\u001b[39m\"\u001b[39m)\n\u001b[1;32m   1328\u001b[0m         writer \u001b[39m=\u001b[39m HTMLWriter(fps\u001b[39m=\u001b[39mfps,\n\u001b[1;32m   1329\u001b[0m                             embed_frames\u001b[39m=\u001b[39membed_frames,\n\u001b[1;32m   1330\u001b[0m                             default_mode\u001b[39m=\u001b[39mdefault_mode)\n\u001b[0;32m-> 1331\u001b[0m         \u001b[39mself\u001b[39;49m\u001b[39m.\u001b[39;49msave(\u001b[39mstr\u001b[39;49m(path), writer\u001b[39m=\u001b[39;49mwriter)\n\u001b[1;32m   1332\u001b[0m         \u001b[39mself\u001b[39m\u001b[39m.\u001b[39m_html_representation \u001b[39m=\u001b[39m path\u001b[39m.\u001b[39mread_text()\n\u001b[1;32m   1334\u001b[0m \u001b[39mreturn\u001b[39;00m \u001b[39mself\u001b[39m\u001b[39m.\u001b[39m_html_representation\n",
      "File \u001b[0;32m~/miniconda3/envs/AML/lib/python3.10/site-packages/matplotlib/animation.py:1076\u001b[0m, in \u001b[0;36mAnimation.save\u001b[0;34m(self, filename, writer, fps, dpi, codec, bitrate, extra_args, metadata, extra_anim, savefig_kwargs, progress_callback)\u001b[0m\n\u001b[1;32m   1071\u001b[0m \u001b[39mwith\u001b[39;00m mpl\u001b[39m.\u001b[39mrc_context({\u001b[39m'\u001b[39m\u001b[39msavefig.bbox\u001b[39m\u001b[39m'\u001b[39m: \u001b[39mNone\u001b[39;00m}), \\\n\u001b[1;32m   1072\u001b[0m      writer\u001b[39m.\u001b[39msaving(\u001b[39mself\u001b[39m\u001b[39m.\u001b[39m_fig, filename, dpi), \\\n\u001b[1;32m   1073\u001b[0m      cbook\u001b[39m.\u001b[39m_setattr_cm(\u001b[39mself\u001b[39m\u001b[39m.\u001b[39m_fig\u001b[39m.\u001b[39mcanvas,\n\u001b[1;32m   1074\u001b[0m                        _is_saving\u001b[39m=\u001b[39m\u001b[39mTrue\u001b[39;00m, manager\u001b[39m=\u001b[39m\u001b[39mNone\u001b[39;00m):\n\u001b[1;32m   1075\u001b[0m     \u001b[39mfor\u001b[39;00m anim \u001b[39min\u001b[39;00m all_anim:\n\u001b[0;32m-> 1076\u001b[0m         anim\u001b[39m.\u001b[39;49m_init_draw()  \u001b[39m# Clear the initial frame\u001b[39;00m\n\u001b[1;32m   1077\u001b[0m     frame_number \u001b[39m=\u001b[39m \u001b[39m0\u001b[39m\n\u001b[1;32m   1078\u001b[0m     \u001b[39m# TODO: Currently only FuncAnimation has a save_count\u001b[39;00m\n\u001b[1;32m   1079\u001b[0m     \u001b[39m#       attribute. Can we generalize this to all Animations?\u001b[39;00m\n",
      "File \u001b[0;32m~/miniconda3/envs/AML/lib/python3.10/site-packages/matplotlib/animation.py:1696\u001b[0m, in \u001b[0;36mFuncAnimation._init_draw\u001b[0;34m(self)\u001b[0m\n\u001b[1;32m   1688\u001b[0m         warnings\u001b[39m.\u001b[39mwarn(\n\u001b[1;32m   1689\u001b[0m             \u001b[39m\"\u001b[39m\u001b[39mCan not start iterating the frames for the initial draw. \u001b[39m\u001b[39m\"\u001b[39m\n\u001b[1;32m   1690\u001b[0m             \u001b[39m\"\u001b[39m\u001b[39mThis can be caused by passing in a 0 length sequence \u001b[39m\u001b[39m\"\u001b[39m\n\u001b[0;32m   (...)\u001b[0m\n\u001b[1;32m   1693\u001b[0m             \u001b[39m\"\u001b[39m\u001b[39mit may be exhausted due to a previous display or save.\u001b[39m\u001b[39m\"\u001b[39m\n\u001b[1;32m   1694\u001b[0m         )\n\u001b[1;32m   1695\u001b[0m         \u001b[39mreturn\u001b[39;00m\n\u001b[0;32m-> 1696\u001b[0m     \u001b[39mself\u001b[39;49m\u001b[39m.\u001b[39;49m_draw_frame(frame_data)\n\u001b[1;32m   1697\u001b[0m \u001b[39melse\u001b[39;00m:\n\u001b[1;32m   1698\u001b[0m     \u001b[39mself\u001b[39m\u001b[39m.\u001b[39m_drawn_artists \u001b[39m=\u001b[39m \u001b[39mself\u001b[39m\u001b[39m.\u001b[39m_init_func()\n",
      "File \u001b[0;32m~/miniconda3/envs/AML/lib/python3.10/site-packages/matplotlib/animation.py:1718\u001b[0m, in \u001b[0;36mFuncAnimation._draw_frame\u001b[0;34m(self, framedata)\u001b[0m\n\u001b[1;32m   1714\u001b[0m \u001b[39mself\u001b[39m\u001b[39m.\u001b[39m_save_seq \u001b[39m=\u001b[39m \u001b[39mself\u001b[39m\u001b[39m.\u001b[39m_save_seq[\u001b[39m-\u001b[39m\u001b[39mself\u001b[39m\u001b[39m.\u001b[39msave_count:]\n\u001b[1;32m   1716\u001b[0m \u001b[39m# Call the func with framedata and args. If blitting is desired,\u001b[39;00m\n\u001b[1;32m   1717\u001b[0m \u001b[39m# func needs to return a sequence of any artists that were modified.\u001b[39;00m\n\u001b[0;32m-> 1718\u001b[0m \u001b[39mself\u001b[39m\u001b[39m.\u001b[39m_drawn_artists \u001b[39m=\u001b[39m \u001b[39mself\u001b[39;49m\u001b[39m.\u001b[39;49m_func(framedata, \u001b[39m*\u001b[39;49m\u001b[39mself\u001b[39;49m\u001b[39m.\u001b[39;49m_args)\n\u001b[1;32m   1720\u001b[0m \u001b[39mif\u001b[39;00m \u001b[39mself\u001b[39m\u001b[39m.\u001b[39m_blit:\n\u001b[1;32m   1722\u001b[0m     err \u001b[39m=\u001b[39m \u001b[39mRuntimeError\u001b[39;00m(\u001b[39m'\u001b[39m\u001b[39mThe animation function must return a sequence \u001b[39m\u001b[39m'\u001b[39m\n\u001b[1;32m   1723\u001b[0m                        \u001b[39m'\u001b[39m\u001b[39mof Artist objects.\u001b[39m\u001b[39m'\u001b[39m)\n",
      "File \u001b[0;32m~/miniconda3/envs/AML/lib/python3.10/site-packages/torch/autograd/grad_mode.py:27\u001b[0m, in \u001b[0;36m_DecoratorContextManager.__call__.<locals>.decorate_context\u001b[0;34m(*args, **kwargs)\u001b[0m\n\u001b[1;32m     24\u001b[0m \u001b[39m@functools\u001b[39m\u001b[39m.\u001b[39mwraps(func)\n\u001b[1;32m     25\u001b[0m \u001b[39mdef\u001b[39;00m \u001b[39mdecorate_context\u001b[39m(\u001b[39m*\u001b[39margs, \u001b[39m*\u001b[39m\u001b[39m*\u001b[39mkwargs):\n\u001b[1;32m     26\u001b[0m     \u001b[39mwith\u001b[39;00m \u001b[39mself\u001b[39m\u001b[39m.\u001b[39mclone():\n\u001b[0;32m---> 27\u001b[0m         \u001b[39mreturn\u001b[39;00m func(\u001b[39m*\u001b[39;49margs, \u001b[39m*\u001b[39;49m\u001b[39m*\u001b[39;49mkwargs)\n",
      "File \u001b[0;32m~/Desktop/MultiCellularAutomata/Thesis/src/visualizer.py:71\u001b[0m, in \u001b[0;36mVisualizer.animate_organism.<locals>.animate\u001b[0;34m(i)\u001b[0m\n\u001b[1;32m     69\u001b[0m \u001b[39m@torch\u001b[39m\u001b[39m.\u001b[39mno_grad()\n\u001b[1;32m     70\u001b[0m \u001b[39mdef\u001b[39;00m \u001b[39manimate\u001b[39m(i):\n\u001b[0;32m---> 71\u001b[0m     \u001b[39mself\u001b[39m\u001b[39m.\u001b[39mgraph, \u001b[39m*\u001b[39m_ \u001b[39m=\u001b[39m model\u001b[39m.\u001b[39;49mupdate(\u001b[39mself\u001b[39;49m\u001b[39m.\u001b[39;49mgraph)\n\u001b[1;32m     72\u001b[0m     \u001b[39mself\u001b[39m\u001b[39m.\u001b[39mplot_organism(\u001b[39mself\u001b[39m\u001b[39m.\u001b[39mgraph\u001b[39m.\u001b[39mclone()\u001b[39m.\u001b[39mdetach()\u001b[39m.\u001b[39mcpu())\n",
      "File \u001b[0;32m~/Desktop/MultiCellularAutomata/Thesis/src/GNCAmodel.py:62\u001b[0m, in \u001b[0;36mGNCA.update\u001b[0;34m(self, graph)\u001b[0m\n\u001b[1;32m     59\u001b[0m \u001b[39mif\u001b[39;00m \u001b[39mnot\u001b[39;00m any_edges:\n\u001b[1;32m     60\u001b[0m     \u001b[39mreturn\u001b[39;00m graph, \u001b[39m0\u001b[39m, \u001b[39m0\u001b[39m, \u001b[39m0\u001b[39m, \u001b[39m0\u001b[39m, \u001b[39mFalse\u001b[39;00m\n\u001b[0;32m---> 62\u001b[0m velocity \u001b[39m=\u001b[39m \u001b[39mself\u001b[39;49m\u001b[39m.\u001b[39;49mupdate_graph(graph)\n\u001b[1;32m     64\u001b[0m epsilon \u001b[39m=\u001b[39m \u001b[39m0.000001\u001b[39m \u001b[39m#Used to prevent taking log of 0.0 resulting in nan values\u001b[39;00m\n\u001b[1;32m     65\u001b[0m mask \u001b[39m=\u001b[39m graph\u001b[39m.\u001b[39mx[:, :\u001b[39m2\u001b[39m]\u001b[39m.\u001b[39mabs() \u001b[39m>\u001b[39m \u001b[39m1\u001b[39m\n",
      "File \u001b[0;32m~/Desktop/MultiCellularAutomata/Thesis/src/GNCAmodel.py:37\u001b[0m, in \u001b[0;36mGNCA.update_graph\u001b[0;34m(self, graph)\u001b[0m\n\u001b[1;32m     35\u001b[0m c_mask \u001b[39m=\u001b[39m cell_mask(graph)\n\u001b[1;32m     36\u001b[0m \u001b[39m#acceleration = self.convolve(graph) * self.acceleration_scale * torch.stack((food_mask, food_mask), dim=1)\u001b[39;00m\n\u001b[0;32m---> 37\u001b[0m h \u001b[39m=\u001b[39m \u001b[39mself\u001b[39;49m\u001b[39m.\u001b[39;49mmessage_pass(graph) \u001b[39m*\u001b[39m \u001b[39mself\u001b[39m\u001b[39m.\u001b[39macceleration_scale \u001b[39m*\u001b[39m torch\u001b[39m.\u001b[39mstack((c_mask, c_mask, c_mask), dim\u001b[39m=\u001b[39m\u001b[39m1\u001b[39m)\n\u001b[1;32m     38\u001b[0m acceleration \u001b[39m=\u001b[39m h[:, :\u001b[39m2\u001b[39m]\n\u001b[1;32m     39\u001b[0m graph\u001b[39m.\u001b[39mx[:, \u001b[39m5\u001b[39m:] \u001b[39m=\u001b[39m h[:, \u001b[39m2\u001b[39m:]\n",
      "File \u001b[0;32m~/Desktop/MultiCellularAutomata/Thesis/src/SpatioTemporalModel.py:31\u001b[0m, in \u001b[0;36mSpatioTemporal.message_pass\u001b[0;34m(self, graph)\u001b[0m\n\u001b[1;32m     29\u001b[0m     x0 \u001b[39m=\u001b[39m \u001b[39mself\u001b[39m\u001b[39m.\u001b[39mX[\u001b[39mself\u001b[39m\u001b[39m.\u001b[39mnode_indices_to_keep, :, \u001b[39m0\u001b[39m]\u001b[39m.\u001b[39mview(\u001b[39mself\u001b[39m\u001b[39m.\u001b[39mnode_indices_to_keep\u001b[39m.\u001b[39mshape[\u001b[39m0\u001b[39m], \u001b[39mself\u001b[39m\u001b[39m.\u001b[39mX\u001b[39m.\u001b[39mshape[\u001b[39m1\u001b[39m])\n\u001b[1;32m     30\u001b[0m     x1 \u001b[39m=\u001b[39m \u001b[39mself\u001b[39m\u001b[39m.\u001b[39mX[\u001b[39mself\u001b[39m\u001b[39m.\u001b[39mnode_indices_to_keep, :, \u001b[39m1\u001b[39m]\u001b[39m.\u001b[39mview(\u001b[39mself\u001b[39m\u001b[39m.\u001b[39mnode_indices_to_keep\u001b[39m.\u001b[39mshape[\u001b[39m0\u001b[39m], \u001b[39mself\u001b[39m\u001b[39m.\u001b[39mX\u001b[39m.\u001b[39mshape[\u001b[39m1\u001b[39m])\n\u001b[0;32m---> 31\u001b[0m     \u001b[39mself\u001b[39m\u001b[39m.\u001b[39mX \u001b[39m=\u001b[39m torch\u001b[39m.\u001b[39;49mstack((graph\u001b[39m.\u001b[39;49mx, x0, x1), dim\u001b[39m=\u001b[39;49m\u001b[39m2\u001b[39;49m)\n\u001b[1;32m     32\u001b[0m     \u001b[39mself\u001b[39m\u001b[39m.\u001b[39mH \u001b[39m=\u001b[39m \u001b[39mself\u001b[39m\u001b[39m.\u001b[39mH[\u001b[39mself\u001b[39m\u001b[39m.\u001b[39mnode_indices_to_keep]\u001b[39m.\u001b[39mview(\u001b[39mself\u001b[39m\u001b[39m.\u001b[39mnode_indices_to_keep\u001b[39m.\u001b[39mshape[\u001b[39m0\u001b[39m], \u001b[39mself\u001b[39m\u001b[39m.\u001b[39mH\u001b[39m.\u001b[39mshape[\u001b[39m1\u001b[39m])\n\u001b[1;32m     34\u001b[0m \u001b[39m#h = self.conv_layers(x=graph.x, edge_index=graph.edge_index, edge_attr=graph.edge_attr)\u001b[39;00m\n",
      "\u001b[0;31mRuntimeError\u001b[0m: stack expects each tensor to be equal size, but got [133, 6] at entry 0 and [33, 6] at entry 1"
     ]
    }
   ],
   "source": [
    "anim = visualizer.animate_organism(graph, model)\n",
    "IPython.display.HTML(anim.to_jshtml())"
   ]
  },
  {
   "cell_type": "code",
   "execution_count": null,
   "metadata": {},
   "outputs": [
    {
     "data": {
      "text/plain": [
       "Data(x=[106, 5], edge_index=[2, 22], device=cpu, attr=[1], edge_attr=[22, 2])"
      ]
     },
     "execution_count": 6,
     "metadata": {},
     "output_type": "execute_result"
    }
   ],
   "source": [
    "graph"
   ]
  },
  {
   "cell_type": "code",
   "execution_count": null,
   "metadata": {},
   "outputs": [
    {
     "name": "stdout",
     "output_type": "stream",
     "text": [
      "tensor(4.4721)\n"
     ]
    }
   ],
   "source": [
    "x = torch.Tensor([1,2])\n",
    "y = torch.Tensor([-1, -2])\n",
    "print((x-y).norm())"
   ]
  },
  {
   "cell_type": "code",
   "execution_count": null,
   "metadata": {},
   "outputs": [
    {
     "data": {
      "image/png": "[encoded data removed]",
      "text/plain": [
       "<Figure size 432x288 with 1 Axes>"
      ]
     },
     "metadata": {
      "needs_background": "light"
     },
     "output_type": "display_data"
    }
   ],
   "source": [
    "import matplotlib.pyplot as plt\n",
    "#(-0.05099533, -0.19881648, -0.07439838, -0.21392481)\n",
    "#(-0.05099533, -0.19881648, -0.013637582, -0.19595696)\n",
    "#(-0.19133699, -0.20643495, -0.20701185, -0.22094099)\n",
    "#(-0.19133699, -0.20643495, -0.1959681, -0.21832432)\n",
    "#(-0.07439838, -0.21392481, -0.05099533, -0.19881648)\n",
    "#(-0.20701185, -0.22094099, -0.19133699, -0.20643495)\n",
    "#(-0.20701185, -0.22094099, -0.1959681, -0.21832432)\n",
    "#(-0.1959681, -0.21832432, -0.19133699, -0.20643495)\n",
    "#(-0.1959681, -0.21832432, -0.20701185, -0.22094099)\n",
    "#(-0.013637582, -0.19595696, -0.05099533, -0.19881648)\n",
    "\n",
    "x = [[-0.05099533, -0.05099533, -0.19133699, -0.1933699, -0.07439838, -0.20701185, -0.20701185, -0.1959681, -0.1959681, -0.013637582],\n",
    "     [-0.07439838, -0.013637582, -0.20701185, -0.1959681, -0.05099533, -0.19133699, -0.1959681, -0.19133699, -0.20701185, -0.05099533]]\n",
    "y = [[-0.19881648, -0.19881648, -0.20643495, -0.20643495, -0.21392481, -0.22094099, -0.22094099, -0.21832432, -0.21832432, -0.19595696],\n",
    "     [-0.21392481, -0.19595696, -0.22094099, -0.21832432, -0.19881648, -0.20643495, -0.21832432, -0.20643495, -0.22094099, -0.19881648]]\n",
    "\n",
    "plt.ion()\n",
    "figure = plt.figure()\n",
    "borders = np.array([-1, -1, 1, 1])\n",
    "axes = plt.axes(xlim=borders[::2], ylim=borders[1::2])\n",
    "plot, *_ = axes.plot(x, y)\n",
    "#plot.set_data(x, y)\n",
    "plt.show()\n"
   ]
  }
 ],
 "metadata": {
  "kernelspec": {
   "display_name": "AML",
   "language": "python",
   "name": "python3"
  },
  "language_info": {
   "codemirror_mode": {
    "name": "ipython",
    "version": 3
   },
   "file_extension": ".py",
   "mimetype": "text/x-python",
   "name": "python",
   "nbconvert_exporter": "python",
   "pygments_lexer": "ipython3",
   "version": "3.10.4"
  },
  "orig_nbformat": 4,
  "vscode": {
   "interpreter": {
    "hash": "20afb3d869327389044feed7fefb9b458eb6296b59bc368887fba7799b57fd31"
   }
  }
 },
 "nbformat": 4,
 "nbformat_minor": 2
}
