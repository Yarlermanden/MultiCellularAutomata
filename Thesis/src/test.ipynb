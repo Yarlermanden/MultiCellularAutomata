{
 "cells": [
  {
   "attachments": {},
   "cell_type": "markdown",
   "metadata": {},
   "source": [
    "### Test notebook"
   ]
  },
  {
   "cell_type": "code",
   "execution_count": 1,
   "metadata": {},
   "outputs": [],
   "source": [
    "import numpy as np\n",
    "import torch\n",
    "import torch.nn as nn\n",
    "import torch.nn.functional as F\n",
    "import math\n",
    "import torch_geometric\n",
    "from torch_geometric.nn import GCNConv\n",
    "from graphUtils import add_edges\n",
    "\n",
    "from generator import generate_organism\n",
    "from cell import Cell\n",
    "from organism import Organism\n",
    "from GNCAmodel import GNCA"
   ]
  },
  {
   "cell_type": "code",
   "execution_count": 2,
   "metadata": {},
   "outputs": [],
   "source": [
    "n = 10\n",
    "organism = generate_organism(n)"
   ]
  },
  {
   "cell_type": "code",
   "execution_count": 3,
   "metadata": {},
   "outputs": [],
   "source": [
    "graph = organism.toGraph()"
   ]
  },
  {
   "cell_type": "code",
   "execution_count": 4,
   "metadata": {},
   "outputs": [],
   "source": [
    "device = torch.device('cpu')\n",
    "input_channels = 5\n",
    "model = GNCA(device, input_channels)"
   ]
  },
  {
   "cell_type": "code",
   "execution_count": 11,
   "metadata": {},
   "outputs": [],
   "source": [
    "graph = model(graph,1)"
   ]
  },
  {
   "cell_type": "code",
   "execution_count": 12,
   "metadata": {},
   "outputs": [
    {
     "data": {
      "text/plain": [
       "tensor([[0.0405, 0.0395, 0.0158, 0.0078, 1.0000],\n",
       "        [0.1241, 0.0506, 0.0165, 0.0094, 1.0000],\n",
       "        [0.0758, 0.0810, 0.0204, 0.0111, 1.0000],\n",
       "        [0.1261, 0.0850, 0.0193, 0.0111, 1.0000],\n",
       "        [0.1268, 0.0358, 0.0147, 0.0082, 1.0000],\n",
       "        [0.1169, 0.0875, 0.0192, 0.0110, 1.0000],\n",
       "        [0.0972, 0.0897, 0.0202, 0.0115, 1.0000],\n",
       "        [0.0890, 0.0978, 0.0174, 0.0100, 1.0000],\n",
       "        [0.0896, 0.1153, 0.0164, 0.0096, 1.0000],\n",
       "        [0.0746, 0.0479, 0.0174, 0.0090, 1.0000]], grad_fn=<CopySlices>)"
      ]
     },
     "execution_count": 12,
     "metadata": {},
     "output_type": "execute_result"
    }
   ],
   "source": [
    "graph.x"
   ]
  },
  {
   "cell_type": "code",
   "execution_count": 153,
   "metadata": {},
   "outputs": [
    {
     "data": {
      "text/plain": [
       "tensor([[ 0.1798,  1.0000, -0.0693,  0.1000,  1.0000],\n",
       "        [ 0.0521,  1.0000, -0.0757,  0.1000,  1.0000],\n",
       "        [-0.1634,  1.0000, -0.0769,  0.1000,  1.0000],\n",
       "        [-0.0883,  1.0000, -0.0718,  0.1000,  1.0000],\n",
       "        [-0.0325,  1.0000, -0.0761,  0.1000,  1.0000],\n",
       "        [-0.0881,  1.0000, -0.0718,  0.1000,  1.0000],\n",
       "        [-0.0316,  1.0000, -0.0742,  0.1000,  1.0000],\n",
       "        [ 0.0435,  1.0000, -0.0758,  0.1000,  1.0000],\n",
       "        [-0.1302,  1.0000, -0.0775,  0.1000,  1.0000],\n",
       "        [ 0.0210,  1.0000, -0.0761,  0.1000,  1.0000]], grad_fn=<CopySlices>)"
      ]
     },
     "execution_count": 153,
     "metadata": {},
     "output_type": "execute_result"
    }
   ],
   "source": [
    "graph = model(graph,1)\n",
    "graph.x"
   ]
  }
 ],
 "metadata": {
  "kernelspec": {
   "display_name": "AML",
   "language": "python",
   "name": "python3"
  },
  "language_info": {
   "codemirror_mode": {
    "name": "ipython",
    "version": 3
   },
   "file_extension": ".py",
   "mimetype": "text/x-python",
   "name": "python",
   "nbconvert_exporter": "python",
   "pygments_lexer": "ipython3",
   "version": "3.10.4"
  },
  "orig_nbformat": 4,
  "vscode": {
   "interpreter": {
    "hash": "20afb3d869327389044feed7fefb9b458eb6296b59bc368887fba7799b57fd31"
   }
  }
 },
 "nbformat": 4,
 "nbformat_minor": 2
}
