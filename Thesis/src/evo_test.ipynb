{
 "cells": [
  {
   "attachments": {},
   "cell_type": "markdown",
   "metadata": {},
   "source": [
    "### Testing Evo"
   ]
  },
  {
   "attachments": {},
   "cell_type": "markdown",
   "metadata": {},
   "source": [
    "#### Imports"
   ]
  },
  {
   "cell_type": "code",
   "execution_count": null,
   "metadata": {},
   "outputs": [],
   "source": [
    "import torch\n",
    "from IPython.display import display, HTML, Image\n",
    "from torch_geometric.loader import DataLoader\n",
    "\n",
    "from settings import *\n",
    "from generator import generate_organism\n",
    "from GNCAConv import Conv\n",
    "from visualizer import Visualizer\n",
    "from evo_trainer import Evo_Trainer\n",
    "from enums import EnvironmentType, ModelType\n",
    "from food_env import *\n",
    "from online_tracker import OnlineTracker\n",
    "\n",
    "#%run visualizer.py"
   ]
  },
  {
   "attachments": {},
   "cell_type": "markdown",
   "metadata": {},
   "source": [
    "#### Train the network"
   ]
  },
  {
   "cell_type": "code",
   "execution_count": null,
   "metadata": {},
   "outputs": [],
   "source": [
    "scale = 4\n",
    "wall_amount = 100*scale\n",
    "food_amount = 500*scale\n",
    "centered_env = Centered_Env(food_amount=food_amount, wall_amount=wall_amount//4)\n",
    "cluster_env = Cluster_Env(clusters=80*scale, cluster_size=15, wall_amount=wall_amount//3)\n",
    "circle_env = Circle_Env(circles=3*scale, food_amount=food_amount*4, wall_amount=wall_amount//3)\n",
    "spiral_env = Spiral_Env(spirals=3, food_amount=food_amount, wall_amount=wall_amount)\n",
    "bottleneck_env = Bottleneck_Env(food_amount=food_amount//2, wall_amount=(wall_amount*16)//25)\n",
    "grid_env = Grid_Env(cluster_size=25, grid_size=6*scale)\n",
    "food_grid_env = Food_Grid_Env(cluster_size=25, grid_size=3*scale)\n",
    "lab_env = Labyrinth_Env(cluster_size=40, grid_size=(5*scale)//2)"
   ]
  },
  {
   "cell_type": "code",
   "execution_count": null,
   "metadata": {},
   "outputs": [],
   "source": [
    "train_config = Train_Config(stdev=1.0, popsize=10, \n",
    "    name='GAT6_localx4', problem_searcher=ProblemSearcher.CMAES,\n",
    "    with_samplepool=False, timesteps=300)"
   ]
  },
  {
   "cell_type": "code",
   "execution_count": null,
   "metadata": {},
   "outputs": [],
   "source": [
    "generations = 10000\n",
    "\n",
    "settings = Settings(\n",
    "    device = torch.device('cpu'),\n",
    "    batch_size = 1,\n",
    "    cells = 100,\n",
    "    #food_envs=[centered_env, cluster_env, circle_env, spiral_env],\n",
    "    food_envs=[spiral_env, cluster_env, circle_env, grid_env, lab_env, food_grid_env],\n",
    "    scale = scale,\n",
    "    wrap_around = False,\n",
    "    \n",
    "    model_type = ModelType.Localx4,\n",
    "    #model_type = ModelType.WithGlobalNode,\n",
    "    #model_type = ModelType.SmallWorld,\n",
    "\n",
    "    radius = 0.04,\n",
    "    radius_food_scale = 5,\n",
    "    consume_radius_scale = 0.8, \n",
    "    noise = 0.002,\n",
    "    energy_required_to_replicate = 80,\n",
    "    train_config=train_config,\n",
    "    max_degree = 8,\n",
    "\n",
    "    radius_wall_scale = 5,\n",
    "    radius_wall_damage_scale = 3,\n",
    "    wall_damage = 30,\n",
    "    radius_long_scale=4,\n",
    ")"
   ]
  },
  {
   "cell_type": "code",
   "execution_count": null,
   "metadata": {},
   "outputs": [],
   "source": [
    "#TODO ADD settings like std of clusters..\n",
    "\n",
    "online_tracker = OnlineTracker(settings)\n",
    "trainer = Evo_Trainer(settings, online_tracker)\n",
    "network = Conv(settings=settings)"
   ]
  },
  {
   "cell_type": "code",
   "execution_count": null,
   "metadata": {},
   "outputs": [],
   "source": [
    "generations=10000"
   ]
  },
  {
   "cell_type": "code",
   "execution_count": null,
   "metadata": {},
   "outputs": [],
   "source": [
    "trainer.train(generations)"
   ]
  },
  {
   "cell_type": "code",
   "execution_count": null,
   "metadata": {},
   "outputs": [],
   "source": [
    "network = trainer.get_trained_network()\n",
    "online_tracker.add_model(network)"
   ]
  },
  {
   "attachments": {},
   "cell_type": "markdown",
   "metadata": {},
   "source": [
    "#### Visualize trained network"
   ]
  },
  {
   "cell_type": "code",
   "execution_count": null,
   "metadata": {},
   "outputs": [],
   "source": [
    "graphs = [generate_organism(settings).toGraph() for _ in range(settings.batch_size)]\n",
    "loader = DataLoader(graphs, batch_size=settings.batch_size)\n",
    "graph = next(iter(loader))\n",
    "visualizer = Visualizer(settings)\n",
    "network(graph, 0)"
   ]
  },
  {
   "cell_type": "code",
   "execution_count": null,
   "metadata": {},
   "outputs": [],
   "source": [
    "dpi = 100 #beautiful\n",
    "#dpi = 50 #fast\n",
    "\n",
    "anim = visualizer.animate_organism(graph, network) \n",
    "visualizer.save_animation_to_gif(anim, train_config.name, fps=10, dpi=dpi)"
   ]
  },
  {
   "cell_type": "code",
   "execution_count": null,
   "metadata": {},
   "outputs": [],
   "source": [
    "Image('../animation/' + train_config.name + '.gif')"
   ]
  },
  {
   "cell_type": "code",
   "execution_count": null,
   "metadata": {},
   "outputs": [],
   "source": [
    "%%javascript\n",
    "IPython.notebook.save_notebook()"
   ]
  },
  {
   "attachments": {},
   "cell_type": "markdown",
   "metadata": {},
   "source": [
    "#### Visualization of loss:"
   ]
  },
  {
   "cell_type": "code",
   "execution_count": null,
   "metadata": {},
   "outputs": [],
   "source": [
    "import matplotlib.pyplot as plt\n",
    "losses = trainer.logger_df\n",
    "#print(losses)\n",
    "#plt.plot(losses.stepsize)\n",
    "\n",
    "if settings.train_config.problem_searcher == ProblemSearcher.GeneticAlgorithm:\n",
    "    plt.plot(losses.obj0_median_eval)\n",
    "    plt.plot(losses.obj0_pop_best_eval)\n",
    "    plt.plot(losses.obj0_mean_eval)\n",
    "else:\n",
    "    plt.plot(losses.median_eval)\n",
    "    plt.plot(losses.pop_best_eval)\n",
    "    plt.plot(losses.mean_eval)\n",
    "plt.legend(('median_eval', 'pop_best_eval', 'mean eval'))\n",
    "plt.show()"
   ]
  },
  {
   "cell_type": "code",
   "execution_count": null,
   "metadata": {},
   "outputs": [],
   "source": [
    "online_tracker.finish()"
   ]
  },
  {
   "cell_type": "code",
   "execution_count": null,
   "metadata": {},
   "outputs": [],
   "source": []
  }
 ],
 "metadata": {
  "kernelspec": {
   "display_name": "AML",
   "language": "python",
   "name": "python3"
  },
  "language_info": {
   "codemirror_mode": {
    "name": "ipython",
    "version": 3
   },
   "file_extension": ".py",
   "mimetype": "text/x-python",
   "name": "python",
   "nbconvert_exporter": "python",
   "pygments_lexer": "ipython3",
   "version": "3.10.4"
  },
  "orig_nbformat": 4,
  "vscode": {
   "interpreter": {
    "hash": "20afb3d869327389044feed7fefb9b458eb6296b59bc368887fba7799b57fd31"
   }
  }
 },
 "nbformat": 4,
 "nbformat_minor": 2
}
