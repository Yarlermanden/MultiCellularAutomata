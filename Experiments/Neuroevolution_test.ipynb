{
 "cells": [
  {
   "cell_type": "markdown",
   "metadata": {},
   "source": [
    "## This Notebook explores Neuroevolution using EvoTorch library"
   ]
  },
  {
   "cell_type": "markdown",
   "metadata": {},
   "source": [
    "https://docs.evotorch.ai/v0.3.0/user_guide/neuroevolution/#neuroevolution-at-scale"
   ]
  },
  {
   "cell_type": "markdown",
   "metadata": {},
   "source": [
    "#### Imports\n"
   ]
  },
  {
   "cell_type": "code",
   "execution_count": 1,
   "metadata": {},
   "outputs": [],
   "source": [
    "import torch\n",
    "from evotorch.tools import dtype_of, device_of\n",
    "\n",
    "from evotorch.neuroevolution import NEProblem\n",
    "\n",
    "from evotorch.algorithms import PGPE\n",
    "from evotorch.logging import PandasLogger"
   ]
  },
  {
   "cell_type": "markdown",
   "metadata": {},
   "source": [
    "#### Method using the network to solve the problem and evaluate the result"
   ]
  },
  {
   "cell_type": "code",
   "execution_count": 2,
   "metadata": {},
   "outputs": [],
   "source": [
    "def sign_prediction_score(network: torch.nn.Module):\n",
    "    # Generate 32 random gaussian vectors\n",
    "    samples = torch.randn((32, 3), dtype=dtype_of(network), device=device_of(network))\n",
    "    # Apply the network to the gaussian vectors\n",
    "    network_out = network(samples)\n",
    "    # Get the sign of the single output\n",
    "    sign_out = torch.sign(network_out[:, 0])\n",
    "    # Get the sign of the sum of the inputs\n",
    "    sign_sum = torch.sign(samples.sum(dim=-1))\n",
    "    # Number of times the network was correct\n",
    "    reward_gained = (sign_sum == sign_out).to(torch.float).sum()\n",
    "    # Number of times the network was incorrect\n",
    "    reward_lost = (sign_sum != sign_out).to(torch.float).sum()\n",
    "    return (reward_gained - reward_lost) / 32"
   ]
  },
  {
   "cell_type": "markdown",
   "metadata": {},
   "source": [
    "#### Creating the problem from the method"
   ]
  },
  {
   "cell_type": "markdown",
   "metadata": {},
   "source": [
    "Got the following error on make:\n",
    "\n",
    "FileNotFoundError: [Errno 2] No such file or directory\n",
    "\n",
    "solution: conda install grpcio"
   ]
  },
  {
   "cell_type": "code",
   "execution_count": 3,
   "metadata": {},
   "outputs": [
    {
     "name": "stderr",
     "output_type": "stream",
     "text": [
      "2022-11-28 21:22:15,846\tINFO worker.py:1528 -- Started a local Ray instance.\n"
     ]
    }
   ],
   "source": [
    "sign_prediction_problem = NEProblem(\n",
    "    # The objective sense -- we wish to maximize the sign_prediction_score\n",
    "    objective_sense=\"max\",\n",
    "    # The network is a Linear layer mapping 3 inputs to 1 output\n",
    "    network=torch.nn.Linear(3, 1),\n",
    "    # Networks will be evaluated according to sign_prediction_score\n",
    "    network_eval_func=sign_prediction_score,\n",
    ")"
   ]
  },
  {
   "cell_type": "markdown",
   "metadata": {},
   "source": [
    "#### Optimization algorithm?/Searcher used to search"
   ]
  },
  {
   "cell_type": "code",
   "execution_count": 4,
   "metadata": {},
   "outputs": [],
   "source": [
    "searcher = PGPE(\n",
    "    sign_prediction_problem,\n",
    "    popsize=50,\n",
    "    radius_init=2.25,\n",
    "    center_learning_rate=0.2,\n",
    "    stdev_learning_rate=0.1,\n",
    ")"
   ]
  },
  {
   "cell_type": "markdown",
   "metadata": {},
   "source": [
    "#### Log and run "
   ]
  },
  {
   "cell_type": "code",
   "execution_count": 5,
   "metadata": {},
   "outputs": [],
   "source": [
    "logger = PandasLogger(searcher)\n",
    "searcher.run(100)"
   ]
  },
  {
   "cell_type": "markdown",
   "metadata": {},
   "source": [
    "#### Show learning curve"
   ]
  },
  {
   "cell_type": "code",
   "execution_count": 6,
   "metadata": {},
   "outputs": [
    {
     "data": {
      "text/plain": [
       "<AxesSubplot:xlabel='iter'>"
      ]
     },
     "execution_count": 6,
     "metadata": {},
     "output_type": "execute_result"
    },
    {
     "data": {
      "image/png": "[encoded data removed]",
      "text/plain": [
       "<Figure size 432x288 with 1 Axes>"
      ]
     },
     "metadata": {
      "needs_background": "light"
     },
     "output_type": "display_data"
    }
   ],
   "source": [
    "logger.to_dataframe().mean_eval.plot()"
   ]
  },
  {
   "cell_type": "markdown",
   "metadata": {},
   "source": [
    "#### Get Network with parameters according to trained model"
   ]
  },
  {
   "cell_type": "code",
   "execution_count": 7,
   "metadata": {},
   "outputs": [],
   "source": [
    "trained_network = sign_prediction_problem.parameterize_net(searcher.status[\"center\"])"
   ]
  },
  {
   "cell_type": "markdown",
   "metadata": {},
   "source": [
    "#### Use Model"
   ]
  },
  {
   "cell_type": "code",
   "execution_count": 8,
   "metadata": {},
   "outputs": [
    {
     "data": {
      "text/plain": [
       "tensor([[57.2145]], grad_fn=<AddmmBackward0>)"
      ]
     },
     "execution_count": 8,
     "metadata": {},
     "output_type": "execute_result"
    }
   ],
   "source": [
    "trained_network(torch.tensor([[1.0, 2.0, 3.0]])) \n",
    "#Expect positive value as the sum is positive"
   ]
  },
  {
   "cell_type": "code",
   "execution_count": 9,
   "metadata": {},
   "outputs": [
    {
     "data": {
      "text/plain": [
       "tensor([[-19.6484]], grad_fn=<AddmmBackward0>)"
      ]
     },
     "execution_count": 9,
     "metadata": {},
     "output_type": "execute_result"
    }
   ],
   "source": [
    "trained_network(torch.tensor([[-1.0, 1.0, -2.0]]))"
   ]
  },
  {
   "cell_type": "markdown",
   "metadata": {},
   "source": [
    "#### Creating custom NEProblem"
   ]
  },
  {
   "cell_type": "markdown",
   "metadata": {},
   "source": [
    "Overwrite _evaluate_network for changing the fitness function\n",
    "\n",
    "Though this is the same as using the function as above"
   ]
  },
  {
   "cell_type": "code",
   "execution_count": 10,
   "metadata": {},
   "outputs": [],
   "source": [
    "class CustomNE(NEProblem):\n",
    "    ...\n",
    "\n",
    "    def _evaluate_network(self, network: torch.nn.Module) -> torch.Tensor:\n",
    "        # Generate random gaussian vectors\n",
    "        samples = self.make_gaussian((32, 3))\n",
    "        # Apply the network to the gaussian vectors\n",
    "        network_out = network(samples)\n",
    "        # Get the sign of the single output\n",
    "        sign_out = torch.sign(network_out[:, 0])\n",
    "        # Get the sign of the sum of the inputs\n",
    "        sign_sum = torch.sign(samples.sum(dim=-1))\n",
    "        # Number of times the network was correct\n",
    "        reward_gained = (sign_sum == sign_out).to(torch.float).sum()\n",
    "        # Number of times the network was incorrect\n",
    "        reward_lost = (sign_sum != sign_out).to(torch.float).sum()\n",
    "        return reward_gained - reward_lost"
   ]
  },
  {
   "cell_type": "markdown",
   "metadata": {},
   "source": [
    "#### Neuroevolution at Scale"
   ]
  },
  {
   "cell_type": "markdown",
   "metadata": {},
   "source": [
    "By default (without changing num_actors) NEProblem will run without Ray and therefore just on same device as problem"
   ]
  },
  {
   "cell_type": "markdown",
   "metadata": {},
   "source": [
    "By specifying num_actors, we can have it run on multiple GPUs..."
   ]
  },
  {
   "cell_type": "code",
   "execution_count": 11,
   "metadata": {},
   "outputs": [
    {
     "ename": "TypeError",
     "evalue": "NEProblem.__init__() got an unexpected keyword argument 'num_gpus_per_actors'",
     "output_type": "error",
     "traceback": [
      "\u001b[0;31m---------------------------------------------------------------------------\u001b[0m",
      "\u001b[0;31mTypeError\u001b[0m                                 Traceback (most recent call last)",
      "\u001b[1;32m/Users/martinholst/Desktop/MultiCellularAutomata/Experiments/Neuroevolution_test.ipynb Cell 27\u001b[0m in \u001b[0;36m<cell line: 1>\u001b[0;34m()\u001b[0m\n\u001b[0;32m----> <a href='vscode-notebook-cell:/Users/martinholst/Desktop/MultiCellularAutomata/Experiments/Neuroevolution_test.ipynb#X35sZmlsZQ%3D%3D?line=0'>1</a>\u001b[0m problem \u001b[39m=\u001b[39m NEProblem(\n\u001b[1;32m      <a href='vscode-notebook-cell:/Users/martinholst/Desktop/MultiCellularAutomata/Experiments/Neuroevolution_test.ipynb#X35sZmlsZQ%3D%3D?line=1'>2</a>\u001b[0m     \u001b[39m.\u001b[39;49m\u001b[39m.\u001b[39;49m\u001b[39m.\u001b[39;49m,\n\u001b[1;32m      <a href='vscode-notebook-cell:/Users/martinholst/Desktop/MultiCellularAutomata/Experiments/Neuroevolution_test.ipynb#X35sZmlsZQ%3D%3D?line=2'>3</a>\u001b[0m     num_actors\u001b[39m=\u001b[39;49m\u001b[39m16\u001b[39;49m,\n\u001b[1;32m      <a href='vscode-notebook-cell:/Users/martinholst/Desktop/MultiCellularAutomata/Experiments/Neuroevolution_test.ipynb#X35sZmlsZQ%3D%3D?line=3'>4</a>\u001b[0m     \u001b[39m#4 GPUs and 16 CPUs - assign 0.25 GPUs per actor\u001b[39;49;00m\n\u001b[1;32m      <a href='vscode-notebook-cell:/Users/martinholst/Desktop/MultiCellularAutomata/Experiments/Neuroevolution_test.ipynb#X35sZmlsZQ%3D%3D?line=4'>5</a>\u001b[0m     num_gpus_per_actors\u001b[39m=\u001b[39;49m(\u001b[39m4\u001b[39;49m \u001b[39m/\u001b[39;49m \u001b[39m16\u001b[39;49m),\n\u001b[1;32m      <a href='vscode-notebook-cell:/Users/martinholst/Desktop/MultiCellularAutomata/Experiments/Neuroevolution_test.ipynb#X35sZmlsZQ%3D%3D?line=5'>6</a>\u001b[0m )\n",
      "\u001b[0;31mTypeError\u001b[0m: NEProblem.__init__() got an unexpected keyword argument 'num_gpus_per_actors'"
     ]
    }
   ],
   "source": [
    "problem = NEProblem(\n",
    "    ...,\n",
    "    num_actors=16,\n",
    "    #4 GPUs and 16 CPUs - assign 0.25 GPUs per actor\n",
    "    num_gpus_per_actors=(4 / 16),\n",
    ")"
   ]
  },
  {
   "cell_type": "markdown",
   "metadata": {},
   "source": [
    "#### Another way of instantiating a NEProblem:"
   ]
  },
  {
   "cell_type": "code",
   "execution_count": 3,
   "metadata": {},
   "outputs": [
    {
     "name": "stderr",
     "output_type": "stream",
     "text": [
      "2022-11-28 21:21:29,882\tINFO worker.py:1528 -- Started a local Ray instance.\n"
     ]
    },
    {
     "name": "stdout",
     "output_type": "stream",
     "text": [
      "MyNetwork(\n",
      "  (lin1): Linear(in_features=3, out_features=32, bias=True)\n",
      "  (act): Tanh()\n",
      "  (lin2): Linear(in_features=32, out_features=3, bias=True)\n",
      ")\n"
     ]
    }
   ],
   "source": [
    "class MyNetwork(torch.nn.Module):\n",
    "    def __init__(self):\n",
    "        super().__init__()\n",
    "        self.lin1 = torch.nn.Linear(3, 32)\n",
    "        self.act = torch.nn.Tanh()\n",
    "        self.lin2 = torch.nn.Linear(32, 3)\n",
    "\n",
    "    def forward(self, data):\n",
    "        return self.lin2(self.act(self.lin1(data)))\n",
    "\n",
    "\n",
    "problem = NEProblem(\n",
    "    objective_sense=\"max\",\n",
    "    network=MyNetwork,\n",
    "    network_eval_func=sign_prediction_score,\n",
    ")\n",
    "print(problem.parameterize_net(problem.make_zeros(problem.solution_length)))\n"
   ]
  },
  {
   "cell_type": "code",
   "execution_count": null,
   "metadata": {},
   "outputs": [],
   "source": []
  }
 ],
 "metadata": {
  "kernelspec": {
   "display_name": "Python 3.10.4 ('AML')",
   "language": "python",
   "name": "python3"
  },
  "language_info": {
   "codemirror_mode": {
    "name": "ipython",
    "version": 3
   },
   "file_extension": ".py",
   "mimetype": "text/x-python",
   "name": "python",
   "nbconvert_exporter": "python",
   "pygments_lexer": "ipython3",
   "version": "3.10.4"
  },
  "orig_nbformat": 4,
  "vscode": {
   "interpreter": {
    "hash": "20afb3d869327389044feed7fefb9b458eb6296b59bc368887fba7799b57fd31"
   }
  }
 },
 "nbformat": 4,
 "nbformat_minor": 2
}
