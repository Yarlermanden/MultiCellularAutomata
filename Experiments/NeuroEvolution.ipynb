{
 "cells": [
  {
   "cell_type": "markdown",
   "metadata": {},
   "source": [
    "## Neuroevolution using EvoTorch"
   ]
  },
  {
   "cell_type": "markdown",
   "metadata": {},
   "source": [
    "#### Imports"
   ]
  },
  {
   "cell_type": "code",
   "execution_count": 1,
   "metadata": {},
   "outputs": [],
   "source": [
    "import torch\n",
    "import numpy as np\n",
    "\n",
    "from evotorch.tools import dtype_of, device_of\n",
    "from evotorch.neuroevolution import NEProblem\n",
    "from evotorch.algorithms import PGPE\n",
    "from evotorch.logging import PandasLogger\n",
    "\n",
    "from Trainer import Trainer\n",
    "from Model import Complex_CA\n",
    "from State_Generator import Generator, State"
   ]
  },
  {
   "cell_type": "code",
   "execution_count": 2,
   "metadata": {},
   "outputs": [],
   "source": [
    "device = torch.device('mps:0' if torch.backends.mps.is_available else 'cpu')\n",
    "batch_size = 16\n",
    "#model = Complex_CA(device, batch_size)\n",
    "#model = model.to(device)\n",
    "generator = Generator(device, False)"
   ]
  },
  {
   "cell_type": "markdown",
   "metadata": {},
   "source": [
    "#### Helper functions"
   ]
  },
  {
   "cell_type": "code",
   "execution_count": 3,
   "metadata": {},
   "outputs": [],
   "source": [
    "batch = generator.generate_ca_and_food(batch_size)"
   ]
  },
  {
   "cell_type": "markdown",
   "metadata": {},
   "source": [
    "#### Network"
   ]
  },
  {
   "cell_type": "code",
   "execution_count": null,
   "metadata": {},
   "outputs": [],
   "source": []
  },
  {
   "cell_type": "markdown",
   "metadata": {},
   "source": [
    "#### Fitness function"
   ]
  },
  {
   "cell_type": "code",
   "execution_count": 4,
   "metadata": {},
   "outputs": [],
   "source": [
    "def score(network: torch.nn.Module):\n",
    "    return torch.tensor([0.2], dtype=dtype_of(network), device=device_of(network))\n",
    "    batch = generator.generate_ca_and_food(batch_size)\n",
    "    batch = torch.tensor(batch, dtype=dtype_of(network), device=device_of(network))\n",
    "    cell = batch\n",
    "    food = batch[:, 3]\n",
    "\n",
    "    steps = 30\n",
    "\n",
    "    cell, food, total_pixel_val, living_count = network(cell, food, steps)\n",
    "\n",
    "    #TODO: foreach in batch compute distance from mean of cell and food...\n",
    "    \n",
    "\n",
    "\n",
    "\n",
    "    #TODO initial state of CA\n",
    "    #TODO initial food state - apply food scent spread\n",
    "\n",
    "    #iterate through x number of time_steps\n",
    "\n",
    "\n",
    "    #evaluate the models behavior ...\n",
    "    print('hi')\n",
    "    #return torch.tensor([0.2], device=device)\n",
    "    return total_pixel_val"
   ]
  },
  {
   "cell_type": "markdown",
   "metadata": {},
   "source": [
    "#### Creating problem"
   ]
  },
  {
   "cell_type": "code",
   "execution_count": 5,
   "metadata": {},
   "outputs": [],
   "source": [
    "problem = NEProblem(\n",
    "    objective_sense=\"min\",\n",
    "    network=Complex_CA,\n",
    "    network_args={\"device\":device, \"batch_size\":batch_size},\n",
    "    network_eval_func=score,\n",
    "    device=\"mps:0\"\n",
    ")"
   ]
  },
  {
   "cell_type": "markdown",
   "metadata": {},
   "source": [
    "#### Searcher algorithm"
   ]
  },
  {
   "cell_type": "code",
   "execution_count": 6,
   "metadata": {},
   "outputs": [],
   "source": [
    "searcher = PGPE(\n",
    "    problem,\n",
    "    popsize=50,\n",
    "    radius_init=2.25,\n",
    "    center_learning_rate=0.2,\n",
    "    stdev_learning_rate=0.1,\n",
    ")"
   ]
  },
  {
   "cell_type": "markdown",
   "metadata": {},
   "source": [
    "#### Logger and run"
   ]
  },
  {
   "cell_type": "code",
   "execution_count": 7,
   "metadata": {},
   "outputs": [
    {
     "ename": "TypeError",
     "evalue": "'<=' not supported between instances of 'NoneType' and 'int'",
     "output_type": "error",
     "traceback": [
      "\u001b[0;31m---------------------------------------------------------------------------\u001b[0m",
      "\u001b[0;31mTypeError\u001b[0m                                 Traceback (most recent call last)",
      "\u001b[1;32m/Users/martinholst/Desktop/MultiCellularAutomata/Experiments/Neuroevolution.ipynb Cell 16\u001b[0m in \u001b[0;36m<cell line: 2>\u001b[0;34m()\u001b[0m\n\u001b[1;32m      <a href='vscode-notebook-cell:/Users/martinholst/Desktop/MultiCellularAutomata/Experiments/Neuroevolution.ipynb#X30sZmlsZQ%3D%3D?line=0'>1</a>\u001b[0m logger \u001b[39m=\u001b[39m PandasLogger(searcher)\n\u001b[0;32m----> <a href='vscode-notebook-cell:/Users/martinholst/Desktop/MultiCellularAutomata/Experiments/Neuroevolution.ipynb#X30sZmlsZQ%3D%3D?line=1'>2</a>\u001b[0m searcher\u001b[39m.\u001b[39;49mrun(\u001b[39m100\u001b[39;49m)\n",
      "File \u001b[0;32m~/miniconda3/envs/AML/lib/python3.10/site-packages/evotorch/algorithms/searchalgorithm.py:425\u001b[0m, in \u001b[0;36mSearchAlgorithm.run\u001b[0;34m(self, num_generations, reset_first_step_datetime)\u001b[0m\n\u001b[1;32m    422\u001b[0m     \u001b[39mself\u001b[39m\u001b[39m.\u001b[39mreset_first_step_datetime()\n\u001b[1;32m    424\u001b[0m \u001b[39mfor\u001b[39;00m _ \u001b[39min\u001b[39;00m \u001b[39mrange\u001b[39m(\u001b[39mint\u001b[39m(num_generations)):\n\u001b[0;32m--> 425\u001b[0m     \u001b[39mself\u001b[39;49m\u001b[39m.\u001b[39;49mstep()\n\u001b[1;32m    427\u001b[0m \u001b[39mif\u001b[39;00m \u001b[39mlen\u001b[39m(\u001b[39mself\u001b[39m\u001b[39m.\u001b[39m_end_of_run_hook) \u001b[39m>\u001b[39m\u001b[39m=\u001b[39m \u001b[39m1\u001b[39m:\n\u001b[1;32m    428\u001b[0m     \u001b[39mself\u001b[39m\u001b[39m.\u001b[39m_end_of_run_hook(\u001b[39mdict\u001b[39m(\u001b[39mself\u001b[39m\u001b[39m.\u001b[39mstatus))\n",
      "File \u001b[0;32m~/miniconda3/envs/AML/lib/python3.10/site-packages/evotorch/algorithms/searchalgorithm.py:390\u001b[0m, in \u001b[0;36mSearchAlgorithm.step\u001b[0;34m(self)\u001b[0m\n\u001b[1;32m    387\u001b[0m \u001b[39mif\u001b[39;00m \u001b[39mself\u001b[39m\u001b[39m.\u001b[39m_first_step_datetime \u001b[39mis\u001b[39;00m \u001b[39mNone\u001b[39;00m:\n\u001b[1;32m    388\u001b[0m     \u001b[39mself\u001b[39m\u001b[39m.\u001b[39m_first_step_datetime \u001b[39m=\u001b[39m datetime\u001b[39m.\u001b[39mnow()\n\u001b[0;32m--> 390\u001b[0m \u001b[39mself\u001b[39;49m\u001b[39m.\u001b[39;49m_step()\n\u001b[1;32m    391\u001b[0m \u001b[39mself\u001b[39m\u001b[39m.\u001b[39m_steps_count \u001b[39m+\u001b[39m\u001b[39m=\u001b[39m \u001b[39m1\u001b[39m\n\u001b[1;32m    392\u001b[0m \u001b[39mself\u001b[39m\u001b[39m.\u001b[39mupdate_status({\u001b[39m\"\u001b[39m\u001b[39miter\u001b[39m\u001b[39m\"\u001b[39m: \u001b[39mself\u001b[39m\u001b[39m.\u001b[39m_steps_count})\n",
      "File \u001b[0;32m~/miniconda3/envs/AML/lib/python3.10/site-packages/evotorch/algorithms/distributed/gaussian.py:355\u001b[0m, in \u001b[0;36mGaussianSearchAlgorithm._step_non_distributed\u001b[0;34m(self)\u001b[0m\n\u001b[1;32m    350\u001b[0m         \u001b[39mself\u001b[39m\u001b[39m.\u001b[39m_population \u001b[39m=\u001b[39m SolutionBatch\u001b[39m.\u001b[39mcat(populations)\n\u001b[1;32m    352\u001b[0m \u001b[39mif\u001b[39;00m \u001b[39mself\u001b[39m\u001b[39m.\u001b[39m_first_iter:\n\u001b[1;32m    353\u001b[0m     \u001b[39m# If we are computing the first generation, we just sample from our distribution and evaluate\u001b[39;00m\n\u001b[1;32m    354\u001b[0m     \u001b[39m# the solutions.\u001b[39;00m\n\u001b[0;32m--> 355\u001b[0m     fill_and_eval_pop()\n\u001b[1;32m    356\u001b[0m     \u001b[39mself\u001b[39m\u001b[39m.\u001b[39m_first_iter \u001b[39m=\u001b[39m \u001b[39mFalse\u001b[39;00m\n\u001b[1;32m    357\u001b[0m \u001b[39melse\u001b[39;00m:\n\u001b[1;32m    358\u001b[0m     \u001b[39m# If we are computing next generations, then we need to compute the gradients of the last\u001b[39;00m\n\u001b[1;32m    359\u001b[0m     \u001b[39m# generation, sample a new population, and evaluate the new population's solutions.\u001b[39;00m\n",
      "File \u001b[0;32m~/miniconda3/envs/AML/lib/python3.10/site-packages/evotorch/algorithms/distributed/gaussian.py:296\u001b[0m, in \u001b[0;36mGaussianSearchAlgorithm._step_non_distributed.<locals>.fill_and_eval_pop\u001b[0;34m()\u001b[0m\n\u001b[1;32m    293\u001b[0m     \u001b[39mself\u001b[39m\u001b[39m.\u001b[39m_distribution\u001b[39m.\u001b[39msample(out\u001b[39m=\u001b[39m\u001b[39mself\u001b[39m\u001b[39m.\u001b[39m_population\u001b[39m.\u001b[39maccess_values(), generator\u001b[39m=\u001b[39m\u001b[39mself\u001b[39m\u001b[39m.\u001b[39mproblem)\n\u001b[1;32m    295\u001b[0m     \u001b[39m# Finally, here, the solutions are evaluated.\u001b[39;00m\n\u001b[0;32m--> 296\u001b[0m     \u001b[39mself\u001b[39;49m\u001b[39m.\u001b[39;49mproblem\u001b[39m.\u001b[39;49mevaluate(\u001b[39mself\u001b[39;49m\u001b[39m.\u001b[39;49m_population)\n\u001b[1;32m    297\u001b[0m \u001b[39melse\u001b[39;00m:\n\u001b[1;32m    298\u001b[0m     \u001b[39m# If num_interactions is not None, then this means that we have a threshold for the number\u001b[39;00m\n\u001b[1;32m    299\u001b[0m     \u001b[39m# of simulator interactions to reach before declaring the phase of sampling complete.\u001b[39;00m\n\u001b[0;32m   (...)\u001b[0m\n\u001b[1;32m    304\u001b[0m     \u001b[39m# Therefore, to properly count the simulator interactions we made during this generation, we need\u001b[39;00m\n\u001b[1;32m    305\u001b[0m     \u001b[39m# to get the interaction count before starting our sampling and evaluation operations.\u001b[39;00m\n\u001b[1;32m    306\u001b[0m     first_num_interactions \u001b[39m=\u001b[39m \u001b[39mself\u001b[39m\u001b[39m.\u001b[39mproblem\u001b[39m.\u001b[39mstatus\u001b[39m.\u001b[39mget(\u001b[39m\"\u001b[39m\u001b[39mtotal_interaction_count\u001b[39m\u001b[39m\"\u001b[39m, \u001b[39m0\u001b[39m)\n",
      "File \u001b[0;32m~/miniconda3/envs/AML/lib/python3.10/site-packages/evotorch/core.py:1969\u001b[0m, in \u001b[0;36mProblem.evaluate\u001b[0;34m(self, x)\u001b[0m\n\u001b[1;32m   1963\u001b[0m \u001b[39melse\u001b[39;00m:\n\u001b[1;32m   1964\u001b[0m     \u001b[39mraise\u001b[39;00m \u001b[39mTypeError\u001b[39;00m(\n\u001b[1;32m   1965\u001b[0m         \u001b[39mf\u001b[39m\u001b[39m\"\u001b[39m\u001b[39mThe method `evaluate(...)` expected a Solution or a SolutionBatch as its argument.\u001b[39m\u001b[39m\"\u001b[39m\n\u001b[1;32m   1966\u001b[0m         \u001b[39mf\u001b[39m\u001b[39m\"\u001b[39m\u001b[39m However, the received object is \u001b[39m\u001b[39m{\u001b[39;00m\u001b[39mrepr\u001b[39m(x)\u001b[39m}\u001b[39;00m\u001b[39m, which is of type \u001b[39m\u001b[39m{\u001b[39;00m\u001b[39mrepr\u001b[39m(\u001b[39mtype\u001b[39m(x))\u001b[39m}\u001b[39;00m\u001b[39m.\u001b[39m\u001b[39m\"\u001b[39m\n\u001b[1;32m   1967\u001b[0m     )\n\u001b[0;32m-> 1969\u001b[0m \u001b[39mself\u001b[39;49m\u001b[39m.\u001b[39;49m_parallelize()\n\u001b[1;32m   1971\u001b[0m \u001b[39mif\u001b[39;00m \u001b[39mself\u001b[39m\u001b[39m.\u001b[39mis_main:\n\u001b[1;32m   1972\u001b[0m     \u001b[39mself\u001b[39m\u001b[39m.\u001b[39mbefore_eval_hook(batch)\n",
      "File \u001b[0;32m~/miniconda3/envs/AML/lib/python3.10/site-packages/evotorch/core.py:1428\u001b[0m, in \u001b[0;36mProblem._parallelize\u001b[0;34m(self)\u001b[0m\n\u001b[1;32m   1424\u001b[0m \u001b[39m\"\"\"Create ray actors for parallelizing the solution evaluations.\"\"\"\u001b[39;00m\n\u001b[1;32m   1426\u001b[0m \u001b[39m# If the problem was explicitly configured for\u001b[39;00m\n\u001b[1;32m   1427\u001b[0m \u001b[39m# NOT having parallelization, leave this function.\u001b[39;00m\n\u001b[0;32m-> 1428\u001b[0m \u001b[39mif\u001b[39;00m (\u001b[39mnot\u001b[39;00m \u001b[39misinstance\u001b[39m(\u001b[39mself\u001b[39m\u001b[39m.\u001b[39m_num_actors, \u001b[39mstr\u001b[39m)) \u001b[39mand\u001b[39;00m (\u001b[39mself\u001b[39;49m\u001b[39m.\u001b[39;49m_num_actors \u001b[39m<\u001b[39;49m\u001b[39m=\u001b[39;49m \u001b[39m0\u001b[39;49m):\n\u001b[1;32m   1429\u001b[0m     \u001b[39mreturn\u001b[39;00m\n\u001b[1;32m   1431\u001b[0m \u001b[39m# If this problem object is a remote one,\u001b[39;00m\n\u001b[1;32m   1432\u001b[0m \u001b[39m# leave this function\u001b[39;00m\n\u001b[1;32m   1433\u001b[0m \u001b[39m# (because we do not want the remote worker\u001b[39;00m\n\u001b[1;32m   1434\u001b[0m \u001b[39m# to parallelize itself further)\u001b[39;00m\n",
      "\u001b[0;31mTypeError\u001b[0m: '<=' not supported between instances of 'NoneType' and 'int'"
     ]
    }
   ],
   "source": [
    "logger = PandasLogger(searcher)\n",
    "searcher.run(100)"
   ]
  },
  {
   "cell_type": "markdown",
   "metadata": {},
   "source": [
    "#### Show learning curve"
   ]
  },
  {
   "cell_type": "code",
   "execution_count": null,
   "metadata": {},
   "outputs": [],
   "source": [
    "logger.to_dataframe().mean_eval.plot()"
   ]
  },
  {
   "cell_type": "markdown",
   "metadata": {},
   "source": [
    "#### Get Network with parameters according to trained model"
   ]
  },
  {
   "cell_type": "code",
   "execution_count": null,
   "metadata": {},
   "outputs": [],
   "source": [
    "trained_network = problem.parameterize_net(searcher.status['center'])"
   ]
  },
  {
   "cell_type": "markdown",
   "metadata": {},
   "source": [
    "#### Use Model"
   ]
  },
  {
   "cell_type": "code",
   "execution_count": null,
   "metadata": {},
   "outputs": [],
   "source": [
    "#TODO"
   ]
  }
 ],
 "metadata": {
  "kernelspec": {
   "display_name": "Python 3.10.4 ('AML')",
   "language": "python",
   "name": "python3"
  },
  "language_info": {
   "codemirror_mode": {
    "name": "ipython",
    "version": 3
   },
   "file_extension": ".py",
   "mimetype": "text/x-python",
   "name": "python",
   "nbconvert_exporter": "python",
   "pygments_lexer": "ipython3",
   "version": "3.10.4"
  },
  "orig_nbformat": 4,
  "vscode": {
   "interpreter": {
    "hash": "20afb3d869327389044feed7fefb9b458eb6296b59bc368887fba7799b57fd31"
   }
  }
 },
 "nbformat": 4,
 "nbformat_minor": 2
}
