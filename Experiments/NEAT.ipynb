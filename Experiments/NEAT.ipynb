{
 "cells": [
  {
   "cell_type": "code",
   "execution_count": null,
   "metadata": {},
   "outputs": [],
   "source": []
  },
  {
   "cell_type": "markdown",
   "metadata": {},
   "source": [
    "Brain"
   ]
  },
  {
   "cell_type": "code",
   "execution_count": null,
   "metadata": {},
   "outputs": [],
   "source": [
    "#fitness\n",
    "#species_id\n",
    "\n",
    "def initialize():\n",
    "    raise NotImplementedError\n",
    "\n",
    "def draw_network():\n",
    "    raise NotImplementedError\n",
    "\n",
    "def add_node():\n",
    "    raise NotImplementedError\n",
    "\n",
    "def add_connection():\n",
    "    raise NotImplementedError\n",
    "\n",
    "def mutate():\n",
    "    raise NotImplementedError\n",
    "\n",
    "def load_inputs():\n",
    "    raise NotImplementedError\n",
    "\n",
    "def run_network():\n",
    "    raise NotImplementedError\n",
    "\n",
    "def get_output():\n",
    "    raise NotImplementedError"
   ]
  },
  {
   "cell_type": "markdown",
   "metadata": {},
   "source": [
    "Node"
   ]
  },
  {
   "cell_type": "code",
   "execution_count": null,
   "metadata": {},
   "outputs": [],
   "source": [
    "#node_identifier\n",
    "#node_type\n",
    "#node_layer\n",
    "#sum_input\n",
    "#sum_output"
   ]
  },
  {
   "cell_type": "markdown",
   "metadata": {},
   "source": [
    "Connection"
   ]
  },
  {
   "cell_type": "code",
   "execution_count": null,
   "metadata": {},
   "outputs": [],
   "source": [
    "#innovation_id\n",
    "#in_node_id\n",
    "#out_node_id\n",
    "#connection_weight\n",
    "#enabled\n",
    "#is_recurrent"
   ]
  }
 ],
 "metadata": {
  "language_info": {
   "name": "python"
  },
  "orig_nbformat": 4
 },
 "nbformat": 4,
 "nbformat_minor": 2
}
