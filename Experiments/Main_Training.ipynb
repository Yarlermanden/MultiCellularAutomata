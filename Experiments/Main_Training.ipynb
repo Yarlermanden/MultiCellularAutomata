{
 "cells": [
  {
   "cell_type": "markdown",
   "metadata": {},
   "source": [
    "## Script for training and saving models"
   ]
  },
  {
   "cell_type": "markdown",
   "metadata": {},
   "source": [
    "#### Layout of files"
   ]
  },
  {
   "cell_type": "markdown",
   "metadata": {},
   "source": [
    "Model.py\n",
    "- Defines the entire model\n",
    "    - Layers\n",
    "    - How it trainsforms data from input to output\n",
    "\n",
    "Trainer.py\n",
    "- Defines how the model is trained \n",
    "- Defines curriculum learning\n",
    "    - How it's trained initially\n",
    "        - X steps just to get similar output as input\n",
    "        - make it stable\n",
    "    - How it's trained when we assume it's getting smarter\n",
    "        - Learn it to move in the direction of the reward\n",
    "\n",
    "Utils.py\n",
    "- Contains all helper functions\n",
    "\n",
    "States.py\n",
    "- How to get new random states\n",
    "    - Output x, y and food\n",
    "        - x being the random initial state\n",
    "            - Should be of size in range of (x1, x2)\n",
    "            - Should be one entity complying with certain rules\n",
    "        - y being the target output after e epochs\n",
    "        - food being the desired target location determine the direction of the CA"
   ]
  },
  {
   "cell_type": "markdown",
   "metadata": {},
   "source": [
    "#### Imports"
   ]
  },
  {
   "cell_type": "code",
   "execution_count": 1,
   "metadata": {},
   "outputs": [],
   "source": [
    "import torch\n",
    "import numpy as np\n",
    "from Trainer import Trainer\n",
    "from Model import Complex_CA"
   ]
  },
  {
   "cell_type": "markdown",
   "metadata": {},
   "source": [
    "#### Setup"
   ]
  },
  {
   "cell_type": "code",
   "execution_count": 2,
   "metadata": {},
   "outputs": [
    {
     "name": "stdout",
     "output_type": "stream",
     "text": [
      "cpu\n"
     ]
    }
   ],
   "source": [
    "#device = torch.device('cuda:0' if torch.cuda.is_available else 'cpu')\n",
    "#device = torch.device('mps:0' if torch.backends.mps.is_available else 'cpu')\n",
    "device = torch.device('cpu')\n",
    "batch_size = 16\n",
    "model = Complex_CA(device, batch_size)\n",
    "model = model.to(device)\n",
    "trainer = Trainer(model, device)\n",
    "print(device)"
   ]
  },
  {
   "cell_type": "markdown",
   "metadata": {},
   "source": [
    "#### Training"
   ]
  },
  {
   "cell_type": "code",
   "execution_count": 3,
   "metadata": {},
   "outputs": [
    {
     "name": "stderr",
     "output_type": "stream",
     "text": [
      "0it [00:00, ?it/s]\n",
      "  0%|          | 0/100 [00:00<?, ?it/s]"
     ]
    },
    {
     "name": "stdout",
     "output_type": "stream",
     "text": [
      "0.06907821446657181\n",
      "0.001110689714550972\n",
      "0.0004709625500254333\n",
      "0.0003999376785941422\n",
      "0.000303095206618309\n",
      "0.0004710940702352673\n",
      "0.0003977002343162894\n",
      "0.00034802925074473023\n",
      "0.00048760566278360784\n",
      "0.0003964136412832886\n",
      "0.0004222887509968132\n",
      "0.0005446759751066566\n",
      "0.00027731238515116274\n",
      "0.0002596256381366402\n",
      "0.0003525568754412234\n",
      "0.00033268469269387424\n",
      "0.0001891341235022992\n",
      "0.0001903492520796135\n",
      "0.00012597520253621042\n",
      "0.00013063231017440557\n"
     ]
    },
    {
     "name": "stderr",
     "output_type": "stream",
     "text": [
      "  1%|          | 1/100 [00:16<27:34, 16.71s/it]"
     ]
    },
    {
     "name": "stdout",
     "output_type": "stream",
     "text": [
      "0.00024957209825515747\n",
      "0.00015755306230857968\n",
      "0.0001028290280373767\n",
      "5.9294434322509915e-05\n",
      "5.411235906649381e-05\n",
      "6.098274752730504e-05\n",
      "3.5601846320787445e-05\n",
      "2.796073749777861e-05\n",
      "3.0485098250210285e-05\n",
      "8.984930900624022e-06\n",
      "1.3706646313949022e-05\n",
      "2.7068870622315444e-05\n",
      "1.619232352823019e-05\n",
      "1.1863063264172524e-05\n",
      "1.9529423298081383e-05\n",
      "9.90628086583456e-06\n",
      "1.0963049135170877e-05\n",
      "8.454186172457412e-06\n",
      "4.9843483793665655e-06\n",
      "8.261963557743002e-06\n"
     ]
    },
    {
     "name": "stderr",
     "output_type": "stream",
     "text": [
      "  2%|▏         | 2/100 [00:33<27:10, 16.64s/it]"
     ]
    },
    {
     "name": "stdout",
     "output_type": "stream",
     "text": [
      "0.00045908265747129917\n",
      "0.00015808352327439934\n",
      "9.336251969216391e-05\n",
      "4.143644036957994e-05\n",
      "4.719496791949496e-05\n",
      "3.4796179534168914e-05\n",
      "3.084863783442415e-05\n",
      "3.9147973438957706e-05\n",
      "5.627542486763559e-05\n",
      "2.4609509637230076e-05\n",
      "1.981198147404939e-05\n",
      "4.2541381844785064e-05\n",
      "5.1347735279705375e-05\n",
      "4.397736847749911e-05\n",
      "2.037683589151129e-05\n",
      "9.133087587542832e-05\n",
      "5.9305381000740454e-05\n",
      "3.9189228118630126e-05\n",
      "4.0099796024151146e-05\n",
      "1.6984027752187103e-05\n"
     ]
    },
    {
     "name": "stderr",
     "output_type": "stream",
     "text": [
      "  3%|▎         | 3/100 [01:08<40:44, 25.20s/it]"
     ]
    },
    {
     "name": "stdout",
     "output_type": "stream",
     "text": [
      "3.402208676561713e-05\n",
      "3.0255745514295995e-05\n",
      "2.2063912183512002e-05\n",
      "2.2154545149533078e-05\n",
      "4.804220225196332e-05\n",
      "3.7970727134961635e-05\n",
      "2.8611524612642825e-05\n",
      "5.0684018788160756e-05\n",
      "1.605963370820973e-05\n",
      "1.465569766878616e-05\n",
      "2.9222146622487344e-05\n",
      "2.5427971195313148e-05\n",
      "2.2360920411301777e-05\n",
      "1.5352838090620935e-05\n",
      "3.654447209555656e-05\n",
      "1.0299065252183937e-05\n",
      "2.206204953836277e-05\n",
      "2.1909019778831862e-05\n",
      "9.564486390445381e-06\n",
      "2.0346049495856278e-05\n"
     ]
    },
    {
     "name": "stderr",
     "output_type": "stream",
     "text": [
      "  4%|▍         | 4/100 [01:44<46:49, 29.27s/it]"
     ]
    },
    {
     "name": "stdout",
     "output_type": "stream",
     "text": [
      "0.005501160863786936\n",
      "0.0019939763005822897\n",
      "0.0024124188348650932\n",
      "0.0022055329754948616\n",
      "0.0018377293599769473\n",
      "0.0019466785015538335\n",
      "0.0019151524174958467\n",
      "0.0017221489688381553\n",
      "0.002028411952778697\n",
      "0.00186790875159204\n",
      "0.0023490088060498238\n",
      "0.0019234907813370228\n",
      "0.001979649066925049\n",
      "0.002114793984219432\n",
      "0.0018684010719880462\n",
      "0.0020811629947274923\n",
      "0.0019152277382090688\n",
      "0.001862656557932496\n",
      "0.0022814555559307337\n",
      "0.0021338490769267082\n"
     ]
    },
    {
     "name": "stderr",
     "output_type": "stream",
     "text": [
      "  5%|▌         | 5/100 [02:42<1:02:50, 39.69s/it]"
     ]
    },
    {
     "name": "stdout",
     "output_type": "stream",
     "text": [
      "0.0018104681512340903\n",
      "0.0020765960216522217\n",
      "0.001904208562336862\n",
      "0.0015751896426081657\n",
      "0.0020337533205747604\n",
      "0.002294218400493264\n",
      "0.0021406651940196753\n",
      "0.0019950950518250465\n",
      "0.0021062318701297045\n",
      "0.002025752095505595\n",
      "0.001517349504865706\n",
      "0.0016739919083192945\n",
      "0.0020100371912121773\n",
      "0.002050605369731784\n",
      "0.002128081861883402\n",
      "0.001798024633899331\n",
      "0.0018015870591625571\n",
      "0.0019692028872668743\n",
      "0.0019456229638308287\n",
      "0.0023164262529462576\n"
     ]
    },
    {
     "name": "stderr",
     "output_type": "stream",
     "text": [
      "  6%|▌         | 6/100 [03:41<1:12:47, 46.46s/it]"
     ]
    },
    {
     "name": "stdout",
     "output_type": "stream",
     "text": [
      "0.023054232820868492\n",
      "0.007142051123082638\n",
      "0.006280178669840097\n",
      "0.005315849091857672\n",
      "0.006840042769908905\n",
      "0.005986063275486231\n",
      "0.004933252930641174\n",
      "0.005091633182018995\n",
      "0.0042870501056313515\n",
      "0.006092655472457409\n",
      "0.004774353466928005\n",
      "0.005658967420458794\n",
      "0.005573849193751812\n",
      "0.005582842044532299\n",
      "0.005493054166436195\n",
      "0.0053717694245278835\n",
      "0.0059796292334795\n",
      "0.005790463648736477\n",
      "0.005980882793664932\n",
      "0.004944181535393\n"
     ]
    },
    {
     "name": "stderr",
     "output_type": "stream",
     "text": [
      "  7%|▋         | 7/100 [05:12<1:34:06, 60.72s/it]"
     ]
    },
    {
     "name": "stdout",
     "output_type": "stream",
     "text": [
      "0.0071549564599990845\n",
      "0.0055794548243284225\n",
      "0.005844946019351482\n",
      "0.005598665215075016\n",
      "0.0053162043914198875\n",
      "0.004950679838657379\n",
      "0.004838288761675358\n",
      "0.0056084999814629555\n",
      "0.00509205786511302\n",
      "0.005207043141126633\n",
      "0.005747062619775534\n",
      "0.00450622383505106\n",
      "0.0049562701024115086\n",
      "0.005239211954176426\n",
      "0.006014835089445114\n",
      "0.005907974671572447\n",
      "0.005107834003865719\n",
      "0.0050434693694114685\n",
      "0.005546415690332651\n",
      "0.005129710305482149\n"
     ]
    },
    {
     "name": "stderr",
     "output_type": "stream",
     "text": [
      "  8%|▊         | 8/100 [06:34<1:43:33, 67.53s/it]"
     ]
    },
    {
     "name": "stdout",
     "output_type": "stream",
     "text": [
      "0.13885878026485443\n",
      "0.019334685057401657\n",
      "0.023429738357663155\n",
      "0.019633550196886063\n",
      "0.020452331751585007\n",
      "0.017903022468090057\n",
      "0.019149789586663246\n",
      "0.016075558960437775\n",
      "0.015850352123379707\n",
      "0.014700856991112232\n",
      "0.014726277440786362\n",
      "0.01557092647999525\n",
      "0.015554478392004967\n",
      "0.014917691238224506\n",
      "0.013984083198010921\n",
      "0.014064366929233074\n",
      "0.014166682958602905\n",
      "0.01631757616996765\n",
      "0.015476829372346401\n",
      "0.01526717934757471\n"
     ]
    },
    {
     "name": "stderr",
     "output_type": "stream",
     "text": [
      "  9%|▉         | 9/100 [08:49<2:14:29, 88.67s/it]"
     ]
    },
    {
     "name": "stdout",
     "output_type": "stream",
     "text": [
      "0.02825339324772358\n",
      "0.01076938584446907\n"
     ]
    },
    {
     "name": "stderr",
     "output_type": "stream",
     "text": [
      "  9%|▉         | 9/100 [08:56<1:30:28, 59.66s/it]\n"
     ]
    },
    {
     "ename": "KeyboardInterrupt",
     "evalue": "",
     "output_type": "error",
     "traceback": [
      "\u001b[0;31m---------------------------------------------------------------------------\u001b[0m",
      "\u001b[0;31mKeyboardInterrupt\u001b[0m                         Traceback (most recent call last)",
      "\u001b[1;32m/Users/martinholst/Desktop/MultiCellularAutomata/Experiments/Main_Training.ipynb Cell 9\u001b[0m in \u001b[0;36m<cell line: 4>\u001b[0;34m()\u001b[0m\n\u001b[1;32m      <a href='vscode-notebook-cell:/Users/martinholst/Desktop/MultiCellularAutomata/Experiments/Main_Training.ipynb#X14sZmlsZQ%3D%3D?line=1'>2</a>\u001b[0m torch\u001b[39m.\u001b[39mmanual_seed(seed)\n\u001b[1;32m      <a href='vscode-notebook-cell:/Users/martinholst/Desktop/MultiCellularAutomata/Experiments/Main_Training.ipynb#X14sZmlsZQ%3D%3D?line=2'>3</a>\u001b[0m np\u001b[39m.\u001b[39mrandom\u001b[39m.\u001b[39mseed(seed)\n\u001b[0;32m----> <a href='vscode-notebook-cell:/Users/martinholst/Desktop/MultiCellularAutomata/Experiments/Main_Training.ipynb#X14sZmlsZQ%3D%3D?line=3'>4</a>\u001b[0m model, losses \u001b[39m=\u001b[39m trainer\u001b[39m.\u001b[39;49mtrain()\n",
      "File \u001b[0;32m~/Desktop/MultiCellularAutomata/Experiments/Trainer.py:90\u001b[0m, in \u001b[0;36mTrainer.train\u001b[0;34m(self)\u001b[0m\n\u001b[1;32m     88\u001b[0m \u001b[39mif\u001b[39;00m i \u001b[39m%\u001b[39m \u001b[39m100\u001b[39m \u001b[39m==\u001b[39m \u001b[39m0\u001b[39m:\n\u001b[1;32m     89\u001b[0m     state \u001b[39m=\u001b[39m \u001b[39mself\u001b[39m\u001b[39m.\u001b[39mgenerator\u001b[39m.\u001b[39mgenerate_moving_state(timesteps\u001b[39m/\u001b[39m\u001b[39m/\u001b[39m\u001b[39m2\u001b[39m, \u001b[39mself\u001b[39m\u001b[39m.\u001b[39mbatch_size)\n\u001b[0;32m---> 90\u001b[0m loss_item \u001b[39m=\u001b[39m \u001b[39mself\u001b[39;49m\u001b[39m.\u001b[39;49mtrain_step(state, timesteps)\n\u001b[1;32m     92\u001b[0m \u001b[39mif\u001b[39;00m i \u001b[39m%\u001b[39m \u001b[39m10\u001b[39m \u001b[39m==\u001b[39m \u001b[39m0\u001b[39m:\n\u001b[1;32m     93\u001b[0m     \u001b[39mif\u001b[39;00m i \u001b[39m%\u001b[39m \u001b[39m100\u001b[39m \u001b[39m==\u001b[39m \u001b[39m0\u001b[39m:\n",
      "File \u001b[0;32m~/Desktop/MultiCellularAutomata/Experiments/Trainer.py:114\u001b[0m, in \u001b[0;36mTrainer.train_step\u001b[0;34m(self, state, steps)\u001b[0m\n\u001b[1;32m    111\u001b[0m loss_item \u001b[39m=\u001b[39m loss\u001b[39m.\u001b[39mitem()\n\u001b[1;32m    113\u001b[0m loss\u001b[39m.\u001b[39mbackward()\n\u001b[0;32m--> 114\u001b[0m \u001b[39mself\u001b[39m\u001b[39m.\u001b[39moptimizer\u001b[39m.\u001b[39mstep()\n\u001b[1;32m    115\u001b[0m \u001b[39mreturn\u001b[39;00m loss_item\n",
      "File \u001b[0;32m~/miniconda3/envs/AML/lib/python3.10/site-packages/torch/_tensor.py:482\u001b[0m, in \u001b[0;36mTensor.backward\u001b[0;34m(self, gradient, retain_graph, create_graph, inputs)\u001b[0m\n\u001b[1;32m    472\u001b[0m \u001b[39mif\u001b[39;00m has_torch_function_unary(\u001b[39mself\u001b[39m):\n\u001b[1;32m    473\u001b[0m     \u001b[39mreturn\u001b[39;00m handle_torch_function(\n\u001b[1;32m    474\u001b[0m         Tensor\u001b[39m.\u001b[39mbackward,\n\u001b[1;32m    475\u001b[0m         (\u001b[39mself\u001b[39m,),\n\u001b[0;32m   (...)\u001b[0m\n\u001b[1;32m    480\u001b[0m         inputs\u001b[39m=\u001b[39minputs,\n\u001b[1;32m    481\u001b[0m     )\n\u001b[0;32m--> 482\u001b[0m torch\u001b[39m.\u001b[39;49mautograd\u001b[39m.\u001b[39;49mbackward(\n\u001b[1;32m    483\u001b[0m     \u001b[39mself\u001b[39;49m, gradient, retain_graph, create_graph, inputs\u001b[39m=\u001b[39;49minputs\n\u001b[1;32m    484\u001b[0m )\n",
      "File \u001b[0;32m~/miniconda3/envs/AML/lib/python3.10/site-packages/torch/autograd/__init__.py:191\u001b[0m, in \u001b[0;36mbackward\u001b[0;34m(tensors, grad_tensors, retain_graph, create_graph, grad_variables, inputs)\u001b[0m\n\u001b[1;32m    186\u001b[0m     retain_graph \u001b[39m=\u001b[39m create_graph\n\u001b[1;32m    188\u001b[0m \u001b[39m# The reason we repeat same the comment below is that\u001b[39;00m\n\u001b[1;32m    189\u001b[0m \u001b[39m# some Python versions print out the first line of a multi-line function\u001b[39;00m\n\u001b[1;32m    190\u001b[0m \u001b[39m# calls in the traceback and some print out the last line\u001b[39;00m\n\u001b[0;32m--> 191\u001b[0m Variable\u001b[39m.\u001b[39;49m_execution_engine\u001b[39m.\u001b[39;49mrun_backward(  \u001b[39m# Calls into the C++ engine to run the backward pass\u001b[39;49;00m\n\u001b[1;32m    192\u001b[0m     tensors, grad_tensors_, retain_graph, create_graph, inputs,\n\u001b[1;32m    193\u001b[0m     allow_unreachable\u001b[39m=\u001b[39;49m\u001b[39mTrue\u001b[39;49;00m, accumulate_grad\u001b[39m=\u001b[39;49m\u001b[39mTrue\u001b[39;49;00m)\n",
      "\u001b[0;31mKeyboardInterrupt\u001b[0m: "
     ]
    }
   ],
   "source": [
    "seed = 2\n",
    "torch.manual_seed(seed)\n",
    "np.random.seed(seed)\n",
    "model, losses = trainer.train()"
   ]
  },
  {
   "cell_type": "markdown",
   "metadata": {},
   "source": [
    "#### Save model and losses graph"
   ]
  },
  {
   "cell_type": "code",
   "execution_count": null,
   "metadata": {},
   "outputs": [],
   "source": [
    "#save model\n",
    "torch.save(model.state_dict(), 'models/complex_ca5.pth')\n",
    "\n",
    "#save graph\n",
    "print(losses.shape)\n",
    "np.save('losses', losses)"
   ]
  },
  {
   "cell_type": "code",
   "execution_count": null,
   "metadata": {},
   "outputs": [],
   "source": []
  }
 ],
 "metadata": {
  "kernelspec": {
   "display_name": "Python 3.10.4 ('AML')",
   "language": "python",
   "name": "python3"
  },
  "language_info": {
   "codemirror_mode": {
    "name": "ipython",
    "version": 3
   },
   "file_extension": ".py",
   "mimetype": "text/x-python",
   "name": "python",
   "nbconvert_exporter": "python",
   "pygments_lexer": "ipython3",
   "version": "3.10.4"
  },
  "orig_nbformat": 4,
  "vscode": {
   "interpreter": {
    "hash": "20afb3d869327389044feed7fefb9b458eb6296b59bc368887fba7799b57fd31"
   }
  }
 },
 "nbformat": 4,
 "nbformat_minor": 2
}
