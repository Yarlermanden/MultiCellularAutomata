{
 "cells": [
  {
   "cell_type": "markdown",
   "metadata": {},
   "source": [
    "## Script for training and saving models"
   ]
  },
  {
   "cell_type": "markdown",
   "metadata": {},
   "source": [
    "#### Layout of files"
   ]
  },
  {
   "cell_type": "markdown",
   "metadata": {},
   "source": [
    "Model.py\n",
    "- Defines the entire model\n",
    "    - Layers\n",
    "    - How it trainsforms data from input to output\n",
    "\n",
    "Trainer.py\n",
    "- Defines how the model is trained \n",
    "- Defines curriculum learning\n",
    "    - How it's trained initially\n",
    "        - X steps just to get similar output as input\n",
    "        - make it stable\n",
    "    - How it's trained when we assume it's getting smarter\n",
    "        - Learn it to move in the direction of the reward\n",
    "\n",
    "Utils.py\n",
    "- Contains all helper functions\n",
    "\n",
    "States.py\n",
    "- How to get new random states\n",
    "    - Output x, y and food\n",
    "        - x being the random initial state\n",
    "            - Should be of size in range of (x1, x2)\n",
    "            - Should be one entity complying with certain rules\n",
    "        - y being the target output after e epochs\n",
    "        - food being the desired target location determine the direction of the CA"
   ]
  },
  {
   "cell_type": "markdown",
   "metadata": {},
   "source": [
    "#### Imports"
   ]
  },
  {
   "cell_type": "code",
   "execution_count": 1,
   "metadata": {},
   "outputs": [],
   "source": [
    "import torch\n",
    "import numpy as np\n",
    "from Trainer import Trainer\n",
    "from Model import Complex_CA"
   ]
  },
  {
   "cell_type": "markdown",
   "metadata": {},
   "source": [
    "#### Setup"
   ]
  },
  {
   "cell_type": "code",
   "execution_count": 2,
   "metadata": {},
   "outputs": [
    {
     "name": "stdout",
     "output_type": "stream",
     "text": [
      "mps:0\n"
     ]
    }
   ],
   "source": [
    "#device = torch.device('cuda:0' if torch.cuda.is_available else 'cpu')\n",
    "device = torch.device('mps:0' if torch.backends.mps.is_available else 'cpu')\n",
    "model = Complex_CA(device)\n",
    "trainer = Trainer(model, device)\n",
    "print(device)"
   ]
  },
  {
   "cell_type": "markdown",
   "metadata": {},
   "source": [
    "#### Training"
   ]
  },
  {
   "cell_type": "code",
   "execution_count": 3,
   "metadata": {},
   "outputs": [
    {
     "name": "stderr",
     "output_type": "stream",
     "text": [
      "  0%|          | 0/4 [00:00<?, ?it/s]"
     ]
    },
    {
     "name": "stdout",
     "output_type": "stream",
     "text": [
      "0.043353501707315445\n"
     ]
    },
    {
     "name": "stderr",
     "output_type": "stream",
     "text": [
      "/Users/martinholst/Desktop/MultiCellularAutomata/Experiments/Model.py:56: UserWarning: The operator 'aten::_slow_conv2d_forward' is not currently supported on the MPS backend and will fall back to run on the CPU. This may have performance implications. (Triggered internally at /Users/runner/work/_temp/anaconda/conda-bld/pytorch_1663225750443/work/aten/src/ATen/mps/MPSFallback.mm:11.)\n",
      "  return F.conv2d(x.view(1,4, 17, 17), conv_weights, padding=1, groups=4)\n"
     ]
    },
    {
     "name": "stdout",
     "output_type": "stream",
     "text": [
      "0.00025758869014680386\n",
      "0.0002229039673693478\n",
      "0.00017471752653364092\n",
      "0.00012083844194421545\n",
      "7.358685979852453e-05\n",
      "4.120729863643646e-05\n",
      "2.112613947247155e-05\n",
      "9.170342309516855e-06\n",
      "2.9251377782202326e-06\n",
      "1.0845925544344936e-06\n",
      "6.485169024017523e-07\n",
      "4.7354305365843175e-07\n",
      "3.867507984978147e-07\n",
      "2.5716408913467603e-07\n",
      "2.0914399101457093e-07\n",
      "1.698460323495965e-07\n",
      "1.406232996714607e-07\n",
      "1.187575051631029e-07\n",
      "1.0095548219624106e-07\n",
      "1.5374470763163117e-07\n"
     ]
    },
    {
     "name": "stderr",
     "output_type": "stream",
     "text": [
      "  0%|          | 0/4 [01:29<?, ?it/s]\n"
     ]
    },
    {
     "ename": "KeyboardInterrupt",
     "evalue": "",
     "output_type": "error",
     "traceback": [
      "\u001b[0;31m---------------------------------------------------------------------------\u001b[0m",
      "\u001b[0;31mKeyboardInterrupt\u001b[0m                         Traceback (most recent call last)",
      "\u001b[1;32m/Users/martinholst/Desktop/MultiCellularAutomata/Experiments/Main_Training.ipynb Cell 9\u001b[0m in \u001b[0;36m<cell line: 4>\u001b[0;34m()\u001b[0m\n\u001b[1;32m      <a href='vscode-notebook-cell:/Users/martinholst/Desktop/MultiCellularAutomata/Experiments/Main_Training.ipynb#X14sZmlsZQ%3D%3D?line=1'>2</a>\u001b[0m torch\u001b[39m.\u001b[39mmanual_seed(seed)\n\u001b[1;32m      <a href='vscode-notebook-cell:/Users/martinholst/Desktop/MultiCellularAutomata/Experiments/Main_Training.ipynb#X14sZmlsZQ%3D%3D?line=2'>3</a>\u001b[0m np\u001b[39m.\u001b[39mrandom\u001b[39m.\u001b[39mseed(seed)\n\u001b[0;32m----> <a href='vscode-notebook-cell:/Users/martinholst/Desktop/MultiCellularAutomata/Experiments/Main_Training.ipynb#X14sZmlsZQ%3D%3D?line=3'>4</a>\u001b[0m model, losses \u001b[39m=\u001b[39m trainer\u001b[39m.\u001b[39;49mtrain()\n",
      "File \u001b[0;32m~/Desktop/MultiCellularAutomata/Experiments/Trainer.py:52\u001b[0m, in \u001b[0;36mTrainer.train\u001b[0;34m(self)\u001b[0m\n\u001b[1;32m     49\u001b[0m \u001b[39mif\u001b[39;00m i \u001b[39m%\u001b[39m \u001b[39mself\u001b[39m\u001b[39m.\u001b[39miterations_per_sample \u001b[39m==\u001b[39m \u001b[39m0\u001b[39m:\n\u001b[1;32m     50\u001b[0m     state \u001b[39m=\u001b[39m \u001b[39mself\u001b[39m\u001b[39m.\u001b[39mgenerator\u001b[39m.\u001b[39mgenerate_stationary_state()\n\u001b[0;32m---> 52\u001b[0m loss_item \u001b[39m=\u001b[39m \u001b[39mself\u001b[39;49m\u001b[39m.\u001b[39;49mtrain_step(state, timesteps)\n\u001b[1;32m     54\u001b[0m \u001b[39mif\u001b[39;00m i \u001b[39m%\u001b[39m \u001b[39m10\u001b[39m \u001b[39m==\u001b[39m \u001b[39m0\u001b[39m:\n\u001b[1;32m     55\u001b[0m     \u001b[39mif\u001b[39;00m i \u001b[39m%\u001b[39m \u001b[39m1000\u001b[39m \u001b[39m==\u001b[39m \u001b[39m0\u001b[39m:\n",
      "File \u001b[0;32m~/Desktop/MultiCellularAutomata/Experiments/Trainer.py:98\u001b[0m, in \u001b[0;36mTrainer.train_step\u001b[0;34m(self, state, steps)\u001b[0m\n\u001b[1;32m     96\u001b[0m \u001b[39mdef\u001b[39;00m \u001b[39mtrain_step\u001b[39m(\u001b[39mself\u001b[39m, state, steps): \u001b[39m#timesteps to iterate\u001b[39;00m\n\u001b[1;32m     97\u001b[0m     \u001b[39mself\u001b[39m\u001b[39m.\u001b[39moptimizer\u001b[39m.\u001b[39mzero_grad()\n\u001b[0;32m---> 98\u001b[0m     x_hat, food, live_count \u001b[39m=\u001b[39m \u001b[39mself\u001b[39;49m\u001b[39m.\u001b[39;49mmodel(state\u001b[39m.\u001b[39;49mx\u001b[39m.\u001b[39;49mclone(), state\u001b[39m.\u001b[39;49mfood\u001b[39m.\u001b[39;49mclone(), steps)\n\u001b[1;32m    100\u001b[0m     loss \u001b[39m=\u001b[39m \u001b[39mself\u001b[39m\u001b[39m.\u001b[39mcriterion(x_hat[\u001b[39m0\u001b[39m], state\u001b[39m.\u001b[39my)\n\u001b[1;32m    101\u001b[0m     loss2 \u001b[39m=\u001b[39m \u001b[39mself\u001b[39m\u001b[39m.\u001b[39mcriterion(live_count, torch\u001b[39m.\u001b[39msum(state\u001b[39m.\u001b[39mx[\u001b[39m0\u001b[39m:\u001b[39m1\u001b[39m])) \u001b[39m#TODO ensure same count as for live_count\u001b[39;00m\n",
      "File \u001b[0;32m~/miniconda3/envs/AML/lib/python3.10/site-packages/torch/nn/modules/module.py:1190\u001b[0m, in \u001b[0;36mModule._call_impl\u001b[0;34m(self, *input, **kwargs)\u001b[0m\n\u001b[1;32m   1186\u001b[0m \u001b[39m# If we don't have any hooks, we want to skip the rest of the logic in\u001b[39;00m\n\u001b[1;32m   1187\u001b[0m \u001b[39m# this function, and just call forward.\u001b[39;00m\n\u001b[1;32m   1188\u001b[0m \u001b[39mif\u001b[39;00m \u001b[39mnot\u001b[39;00m (\u001b[39mself\u001b[39m\u001b[39m.\u001b[39m_backward_hooks \u001b[39mor\u001b[39;00m \u001b[39mself\u001b[39m\u001b[39m.\u001b[39m_forward_hooks \u001b[39mor\u001b[39;00m \u001b[39mself\u001b[39m\u001b[39m.\u001b[39m_forward_pre_hooks \u001b[39mor\u001b[39;00m _global_backward_hooks\n\u001b[1;32m   1189\u001b[0m         \u001b[39mor\u001b[39;00m _global_forward_hooks \u001b[39mor\u001b[39;00m _global_forward_pre_hooks):\n\u001b[0;32m-> 1190\u001b[0m     \u001b[39mreturn\u001b[39;00m forward_call(\u001b[39m*\u001b[39;49m\u001b[39minput\u001b[39;49m, \u001b[39m*\u001b[39;49m\u001b[39m*\u001b[39;49mkwargs)\n\u001b[1;32m   1191\u001b[0m \u001b[39m# Do not call functions when jit is used\u001b[39;00m\n\u001b[1;32m   1192\u001b[0m full_backward_hooks, non_full_backward_hooks \u001b[39m=\u001b[39m [], []\n",
      "File \u001b[0;32m~/Desktop/MultiCellularAutomata/Experiments/Model.py:109\u001b[0m, in \u001b[0;36mComplex_CA.forward\u001b[0;34m(self, cell, food, steps)\u001b[0m\n\u001b[1;32m    107\u001b[0m \u001b[39mdef\u001b[39;00m \u001b[39mforward\u001b[39m(\u001b[39mself\u001b[39m, cell: torch\u001b[39m.\u001b[39mTensor, food: torch\u001b[39m.\u001b[39mTensor, steps: \u001b[39mint\u001b[39m):\n\u001b[1;32m    108\u001b[0m     \u001b[39mfor\u001b[39;00m _ \u001b[39min\u001b[39;00m \u001b[39mrange\u001b[39m(steps):\n\u001b[0;32m--> 109\u001b[0m         cell, food \u001b[39m=\u001b[39m \u001b[39mself\u001b[39;49m\u001b[39m.\u001b[39;49mupdate(cell, food)\n\u001b[1;32m    111\u001b[0m     \u001b[39m#TODO could maybe even add count of cells above some threshold e.g. 0.9 - force completely living cells\u001b[39;00m\n\u001b[1;32m    112\u001b[0m     living_count \u001b[39m=\u001b[39m \u001b[39mself\u001b[39m\u001b[39m.\u001b[39malive_count(cell[\u001b[39m0\u001b[39m:\u001b[39m1\u001b[39m])\n",
      "File \u001b[0;32m~/Desktop/MultiCellularAutomata/Experiments/Model.py:77\u001b[0m, in \u001b[0;36mComplex_CA.update\u001b[0;34m(self, cell, food)\u001b[0m\n\u001b[1;32m     74\u001b[0m x[\u001b[39m3\u001b[39m] \u001b[39m=\u001b[39m \u001b[39mself\u001b[39m\u001b[39m.\u001b[39mperceive_scent(food) \u001b[39m#update scent \u001b[39;00m\n\u001b[1;32m     76\u001b[0m pre_life_mask \u001b[39m=\u001b[39m \u001b[39mself\u001b[39m\u001b[39m.\u001b[39malive_filter(x)\n\u001b[0;32m---> 77\u001b[0m x \u001b[39m=\u001b[39m \u001b[39mself\u001b[39;49m\u001b[39m.\u001b[39;49mperceive_cell_surrounding(x) \u001b[39m#perceive neighbor cell states\u001b[39;00m\n\u001b[1;32m     78\u001b[0m x \u001b[39m=\u001b[39m torch\u001b[39m.\u001b[39mrelu(\u001b[39mself\u001b[39m\u001b[39m.\u001b[39mconv3(x)) \u001b[39m#single cell \u001b[39;00m\n\u001b[1;32m     79\u001b[0m x \u001b[39m=\u001b[39m \u001b[39mself\u001b[39m\u001b[39m.\u001b[39mconv4(x) \u001b[39m#single cell\u001b[39;00m\n",
      "File \u001b[0;32m~/Desktop/MultiCellularAutomata/Experiments/Model.py:61\u001b[0m, in \u001b[0;36mComplex_CA.perceive_cell_surrounding\u001b[0;34m(self, x)\u001b[0m\n\u001b[1;32m     58\u001b[0m dx \u001b[39m=\u001b[39m np\u001b[39m.\u001b[39mouter([\u001b[39m1\u001b[39m,\u001b[39m2\u001b[39m,\u001b[39m1\u001b[39m], [\u001b[39m-\u001b[39m\u001b[39m1\u001b[39m, \u001b[39m0\u001b[39m, \u001b[39m1\u001b[39m]) \u001b[39m/\u001b[39m \u001b[39m8.0\u001b[39m \u001b[39m# Sobel filter\u001b[39;00m\n\u001b[1;32m     59\u001b[0m dy \u001b[39m=\u001b[39m dx\u001b[39m.\u001b[39mT\n\u001b[0;32m---> 61\u001b[0m y1 \u001b[39m=\u001b[39m _perceive_with(x, dx)\n\u001b[1;32m     62\u001b[0m y2 \u001b[39m=\u001b[39m _perceive_with(x, dy)\n\u001b[1;32m     63\u001b[0m y \u001b[39m=\u001b[39m torch\u001b[39m.\u001b[39mcat((x,y1[\u001b[39m0\u001b[39m],y2[\u001b[39m0\u001b[39m]),\u001b[39m0\u001b[39m)\n",
      "File \u001b[0;32m~/Desktop/MultiCellularAutomata/Experiments/Model.py:56\u001b[0m, in \u001b[0;36mComplex_CA.perceive_cell_surrounding.<locals>._perceive_with\u001b[0;34m(x, weight)\u001b[0m\n\u001b[1;32m     52\u001b[0m \u001b[39m#conv_weights = conv_weights.view(1,1,3,3).repeat(self.channel_n, 1, 1, 1)\u001b[39;00m\n\u001b[1;32m     53\u001b[0m \u001b[39m#return F.conv2d(x, conv_weights, padding=1, groups=self.channel_n)\u001b[39;00m\n\u001b[1;32m     54\u001b[0m \u001b[39m#conv_weights = conv_weights.view(1,1,3,3).repeat(1, 4, 1, 1)\u001b[39;00m\n\u001b[1;32m     55\u001b[0m conv_weights \u001b[39m=\u001b[39m conv_weights\u001b[39m.\u001b[39mview(\u001b[39m1\u001b[39m,\u001b[39m1\u001b[39m,\u001b[39m3\u001b[39m,\u001b[39m3\u001b[39m)\u001b[39m.\u001b[39mrepeat(\u001b[39m4\u001b[39m, \u001b[39m1\u001b[39m, \u001b[39m1\u001b[39m, \u001b[39m1\u001b[39m)\n\u001b[0;32m---> 56\u001b[0m \u001b[39mreturn\u001b[39;00m F\u001b[39m.\u001b[39;49mconv2d(x\u001b[39m.\u001b[39;49mview(\u001b[39m1\u001b[39;49m,\u001b[39m4\u001b[39;49m, \u001b[39m17\u001b[39;49m, \u001b[39m17\u001b[39;49m), conv_weights, padding\u001b[39m=\u001b[39;49m\u001b[39m1\u001b[39;49m, groups\u001b[39m=\u001b[39;49m\u001b[39m4\u001b[39;49m)\n",
      "\u001b[0;31mKeyboardInterrupt\u001b[0m: "
     ]
    }
   ],
   "source": [
    "seed = 2\n",
    "torch.manual_seed(seed)\n",
    "np.random.seed(seed)\n",
    "model, losses = trainer.train()"
   ]
  },
  {
   "cell_type": "markdown",
   "metadata": {},
   "source": [
    "#### Save model and losses graph"
   ]
  },
  {
   "cell_type": "code",
   "execution_count": null,
   "metadata": {},
   "outputs": [
    {
     "name": "stdout",
     "output_type": "stream",
     "text": [
      "(40000,)\n"
     ]
    }
   ],
   "source": [
    "#save model\n",
    "torch.save(model.state_dict(), 'models/complex_ca5.pth')\n",
    "\n",
    "#save graph\n",
    "print(losses.shape)\n",
    "np.save('losses', losses)"
   ]
  },
  {
   "cell_type": "code",
   "execution_count": null,
   "metadata": {},
   "outputs": [],
   "source": []
  }
 ],
 "metadata": {
  "kernelspec": {
   "display_name": "Python 3.10.4 ('AML')",
   "language": "python",
   "name": "python3"
  },
  "language_info": {
   "codemirror_mode": {
    "name": "ipython",
    "version": 3
   },
   "file_extension": ".py",
   "mimetype": "text/x-python",
   "name": "python",
   "nbconvert_exporter": "python",
   "pygments_lexer": "ipython3",
   "version": "3.10.4"
  },
  "orig_nbformat": 4,
  "vscode": {
   "interpreter": {
    "hash": "20afb3d869327389044feed7fefb9b458eb6296b59bc368887fba7799b57fd31"
   }
  }
 },
 "nbformat": 4,
 "nbformat_minor": 2
}
